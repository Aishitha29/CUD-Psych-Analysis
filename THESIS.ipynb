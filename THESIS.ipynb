{
 "cells": [
  {
   "cell_type": "code",
   "execution_count": 1,
   "id": "b9be1cef-74c7-4205-a1a6-2a5283a4da9f",
   "metadata": {},
   "outputs": [
    {
     "name": "stdout",
     "output_type": "stream",
     "text": [
      "<class 'pandas.core.frame.DataFrame'>\n",
      "RangeIndex: 148491 entries, 0 to 148490\n",
      "Data columns (total 9 columns):\n",
      " #   Column              Non-Null Count   Dtype         \n",
      "---  ------              --------------   -----         \n",
      " 0   PATID               148491 non-null  int64         \n",
      " 1   BIRTH_DATE          148491 non-null  datetime64[ns]\n",
      " 2   BIRTH_TIME          148491 non-null  object        \n",
      " 3   SEX                 148489 non-null  object        \n",
      " 4   HISPANIC            148241 non-null  object        \n",
      " 5   MARITAL_STATUS      147737 non-null  object        \n",
      " 6   PREFERRED_LANGUAGE  147342 non-null  object        \n",
      " 7   DIAGNOSIS           148491 non-null  object        \n",
      " 8   AGE                 148491 non-null  int64         \n",
      "dtypes: datetime64[ns](1), int64(2), object(6)\n",
      "memory usage: 10.2+ MB\n"
     ]
    },
    {
     "data": {
      "text/html": [
       "<div>\n",
       "<style scoped>\n",
       "    .dataframe tbody tr th:only-of-type {\n",
       "        vertical-align: middle;\n",
       "    }\n",
       "\n",
       "    .dataframe tbody tr th {\n",
       "        vertical-align: top;\n",
       "    }\n",
       "\n",
       "    .dataframe thead th {\n",
       "        text-align: right;\n",
       "    }\n",
       "</style>\n",
       "<table border=\"1\" class=\"dataframe\">\n",
       "  <thead>\n",
       "    <tr style=\"text-align: right;\">\n",
       "      <th></th>\n",
       "      <th>PATID</th>\n",
       "      <th>BIRTH_DATE</th>\n",
       "      <th>BIRTH_TIME</th>\n",
       "      <th>SEX</th>\n",
       "      <th>HISPANIC</th>\n",
       "      <th>MARITAL_STATUS</th>\n",
       "      <th>PREFERRED_LANGUAGE</th>\n",
       "      <th>DIAGNOSIS</th>\n",
       "      <th>AGE</th>\n",
       "    </tr>\n",
       "  </thead>\n",
       "  <tbody>\n",
       "    <tr>\n",
       "      <th>0</th>\n",
       "      <td>3052085</td>\n",
       "      <td>1993-12-10 06:00:00</td>\n",
       "      <td>06:00:00</td>\n",
       "      <td>F</td>\n",
       "      <td>N</td>\n",
       "      <td>Single</td>\n",
       "      <td>ENG</td>\n",
       "      <td>CUD</td>\n",
       "      <td>31</td>\n",
       "    </tr>\n",
       "    <tr>\n",
       "      <th>1</th>\n",
       "      <td>617820</td>\n",
       "      <td>1985-10-12 06:00:00</td>\n",
       "      <td>06:00:00</td>\n",
       "      <td>F</td>\n",
       "      <td>N</td>\n",
       "      <td>Single</td>\n",
       "      <td>ENG</td>\n",
       "      <td>CUD, Depression, Anxiety</td>\n",
       "      <td>39</td>\n",
       "    </tr>\n",
       "    <tr>\n",
       "      <th>2</th>\n",
       "      <td>2196185</td>\n",
       "      <td>1977-06-17 06:00:00</td>\n",
       "      <td>06:00:00</td>\n",
       "      <td>F</td>\n",
       "      <td>N</td>\n",
       "      <td>Divorced</td>\n",
       "      <td>ENG</td>\n",
       "      <td>CUD, Anxiety</td>\n",
       "      <td>47</td>\n",
       "    </tr>\n",
       "    <tr>\n",
       "      <th>3</th>\n",
       "      <td>2673434</td>\n",
       "      <td>1988-04-28 06:00:00</td>\n",
       "      <td>06:00:00</td>\n",
       "      <td>M</td>\n",
       "      <td>N</td>\n",
       "      <td>Married</td>\n",
       "      <td>ENG</td>\n",
       "      <td>CUD</td>\n",
       "      <td>36</td>\n",
       "    </tr>\n",
       "    <tr>\n",
       "      <th>4</th>\n",
       "      <td>128923</td>\n",
       "      <td>1962-05-15 06:00:00</td>\n",
       "      <td>06:00:00</td>\n",
       "      <td>F</td>\n",
       "      <td>N</td>\n",
       "      <td>Divorced</td>\n",
       "      <td>ENG</td>\n",
       "      <td>CUD, Depression, Anxiety</td>\n",
       "      <td>62</td>\n",
       "    </tr>\n",
       "  </tbody>\n",
       "</table>\n",
       "</div>"
      ],
      "text/plain": [
       "     PATID          BIRTH_DATE BIRTH_TIME SEX HISPANIC MARITAL_STATUS  \\\n",
       "0  3052085 1993-12-10 06:00:00   06:00:00   F        N         Single   \n",
       "1   617820 1985-10-12 06:00:00   06:00:00   F        N         Single   \n",
       "2  2196185 1977-06-17 06:00:00   06:00:00   F        N       Divorced   \n",
       "3  2673434 1988-04-28 06:00:00   06:00:00   M        N        Married   \n",
       "4   128923 1962-05-15 06:00:00   06:00:00   F        N       Divorced   \n",
       "\n",
       "  PREFERRED_LANGUAGE                 DIAGNOSIS  AGE  \n",
       "0                ENG                       CUD   31  \n",
       "1                ENG  CUD, Depression, Anxiety   39  \n",
       "2                ENG              CUD, Anxiety   47  \n",
       "3                ENG                       CUD   36  \n",
       "4                ENG  CUD, Depression, Anxiety   62  "
      ]
     },
     "execution_count": 1,
     "metadata": {},
     "output_type": "execute_result"
    }
   ],
   "source": [
    "import pandas as pd\n",
    "import numpy as np\n",
    "\n",
    "# Load dataset from Excel file\n",
    "df = pd.read_excel(\"thesis.xlsx\")\n",
    "\n",
    "# Display basic info about dataset\n",
    "df.info()\n",
    "\n",
    "# Show first few rows\n",
    "df.head()"
   ]
  },
  {
   "cell_type": "code",
   "execution_count": 3,
   "id": "9658fbad-c1c0-4ce5-98b8-f06f5f1a6ed8",
   "metadata": {},
   "outputs": [
    {
     "name": "stdout",
     "output_type": "stream",
     "text": [
      "Missing Values:\n",
      " PATID                    0\n",
      "BIRTH_DATE               0\n",
      "BIRTH_TIME               0\n",
      "SEX                      2\n",
      "HISPANIC               250\n",
      "MARITAL_STATUS         754\n",
      "PREFERRED_LANGUAGE    1149\n",
      "DIAGNOSIS                0\n",
      "AGE                      0\n",
      "dtype: int64\n"
     ]
    }
   ],
   "source": [
    "# Check missing values in each column\n",
    "missing_values = df.isnull().sum()\n",
    "print(\"Missing Values:\\n\", missing_values)\n"
   ]
  },
  {
   "cell_type": "code",
   "execution_count": 5,
   "id": "f6a5fb13-8969-4ad2-91d0-6896851214a3",
   "metadata": {},
   "outputs": [],
   "source": [
    "# Using df.assign() to update multiple columns at once\n",
    "df = df.assign(\n",
    "    SEX=df[\"SEX\"].fillna(\"Unknown\"),\n",
    "    HISPANIC=df[\"HISPANIC\"].fillna(\"Unknown\"),\n",
    "    MARITAL_STATUS=df[\"MARITAL_STATUS\"].fillna(\"Unknown\"),\n",
    "    PREFERRED_LANGUAGE=df[\"PREFERRED_LANGUAGE\"].fillna(\"Unknown\"),\n",
    "    DIAGNOSIS=df[\"DIAGNOSIS\"].fillna(\"No Diagnosis\")\n",
    ")"
   ]
  },
  {
   "cell_type": "code",
   "execution_count": 7,
   "id": "d397bb4f-390d-478e-b7e9-abf0bd1febd5",
   "metadata": {},
   "outputs": [
    {
     "name": "stdout",
     "output_type": "stream",
     "text": [
      "PATID                 0\n",
      "BIRTH_DATE            0\n",
      "BIRTH_TIME            0\n",
      "SEX                   0\n",
      "HISPANIC              0\n",
      "MARITAL_STATUS        0\n",
      "PREFERRED_LANGUAGE    0\n",
      "DIAGNOSIS             0\n",
      "AGE                   0\n",
      "dtype: int64\n"
     ]
    }
   ],
   "source": [
    "print(df.isnull().sum())  # Should print all 0s\n"
   ]
  },
  {
   "cell_type": "code",
   "execution_count": 9,
   "id": "45538196-ef0d-4e86-9da2-faefdf41857a",
   "metadata": {},
   "outputs": [
    {
     "data": {
      "text/html": [
       "<div>\n",
       "<style scoped>\n",
       "    .dataframe tbody tr th:only-of-type {\n",
       "        vertical-align: middle;\n",
       "    }\n",
       "\n",
       "    .dataframe tbody tr th {\n",
       "        vertical-align: top;\n",
       "    }\n",
       "\n",
       "    .dataframe thead th {\n",
       "        text-align: right;\n",
       "    }\n",
       "</style>\n",
       "<table border=\"1\" class=\"dataframe\">\n",
       "  <thead>\n",
       "    <tr style=\"text-align: right;\">\n",
       "      <th></th>\n",
       "      <th>DIAGNOSIS</th>\n",
       "      <th>CUD_Diagnosis</th>\n",
       "    </tr>\n",
       "  </thead>\n",
       "  <tbody>\n",
       "    <tr>\n",
       "      <th>0</th>\n",
       "      <td>CUD</td>\n",
       "      <td>1</td>\n",
       "    </tr>\n",
       "    <tr>\n",
       "      <th>1</th>\n",
       "      <td>CUD, Depression, Anxiety</td>\n",
       "      <td>1</td>\n",
       "    </tr>\n",
       "    <tr>\n",
       "      <th>2</th>\n",
       "      <td>CUD, Anxiety</td>\n",
       "      <td>1</td>\n",
       "    </tr>\n",
       "    <tr>\n",
       "      <th>3</th>\n",
       "      <td>CUD</td>\n",
       "      <td>1</td>\n",
       "    </tr>\n",
       "    <tr>\n",
       "      <th>4</th>\n",
       "      <td>CUD, Depression, Anxiety</td>\n",
       "      <td>1</td>\n",
       "    </tr>\n",
       "  </tbody>\n",
       "</table>\n",
       "</div>"
      ],
      "text/plain": [
       "                  DIAGNOSIS  CUD_Diagnosis\n",
       "0                       CUD              1\n",
       "1  CUD, Depression, Anxiety              1\n",
       "2              CUD, Anxiety              1\n",
       "3                       CUD              1\n",
       "4  CUD, Depression, Anxiety              1"
      ]
     },
     "execution_count": 9,
     "metadata": {},
     "output_type": "execute_result"
    }
   ],
   "source": [
    "# Create binary column: 1 if 'CUD' is in DIAGNOSIS, otherwise 0\n",
    "df[\"CUD_Diagnosis\"] = df[\"DIAGNOSIS\"].apply(lambda x: 1 if \"CUD\" in str(x) else 0)\n",
    "\n",
    "# Verify changes\n",
    "df[[\"DIAGNOSIS\", \"CUD_Diagnosis\"]].head()"
   ]
  },
  {
   "cell_type": "code",
   "execution_count": 11,
   "id": "e1c19c52-2da1-4290-8ce4-1097b90540ad",
   "metadata": {},
   "outputs": [
    {
     "data": {
      "text/html": [
       "<div>\n",
       "<style scoped>\n",
       "    .dataframe tbody tr th:only-of-type {\n",
       "        vertical-align: middle;\n",
       "    }\n",
       "\n",
       "    .dataframe tbody tr th {\n",
       "        vertical-align: top;\n",
       "    }\n",
       "\n",
       "    .dataframe thead th {\n",
       "        text-align: right;\n",
       "    }\n",
       "</style>\n",
       "<table border=\"1\" class=\"dataframe\">\n",
       "  <thead>\n",
       "    <tr style=\"text-align: right;\">\n",
       "      <th></th>\n",
       "      <th>DIAGNOSIS</th>\n",
       "      <th>CUD_Diagnosis</th>\n",
       "      <th>Depression</th>\n",
       "      <th>Anxiety</th>\n",
       "      <th>Schizophrenia</th>\n",
       "    </tr>\n",
       "  </thead>\n",
       "  <tbody>\n",
       "    <tr>\n",
       "      <th>0</th>\n",
       "      <td>CUD</td>\n",
       "      <td>1</td>\n",
       "      <td>0</td>\n",
       "      <td>0</td>\n",
       "      <td>0</td>\n",
       "    </tr>\n",
       "    <tr>\n",
       "      <th>1</th>\n",
       "      <td>CUD, Depression, Anxiety</td>\n",
       "      <td>1</td>\n",
       "      <td>1</td>\n",
       "      <td>1</td>\n",
       "      <td>0</td>\n",
       "    </tr>\n",
       "    <tr>\n",
       "      <th>2</th>\n",
       "      <td>CUD, Anxiety</td>\n",
       "      <td>1</td>\n",
       "      <td>0</td>\n",
       "      <td>1</td>\n",
       "      <td>0</td>\n",
       "    </tr>\n",
       "    <tr>\n",
       "      <th>3</th>\n",
       "      <td>CUD</td>\n",
       "      <td>1</td>\n",
       "      <td>0</td>\n",
       "      <td>0</td>\n",
       "      <td>0</td>\n",
       "    </tr>\n",
       "    <tr>\n",
       "      <th>4</th>\n",
       "      <td>CUD, Depression, Anxiety</td>\n",
       "      <td>1</td>\n",
       "      <td>1</td>\n",
       "      <td>1</td>\n",
       "      <td>0</td>\n",
       "    </tr>\n",
       "  </tbody>\n",
       "</table>\n",
       "</div>"
      ],
      "text/plain": [
       "                  DIAGNOSIS  CUD_Diagnosis  Depression  Anxiety  Schizophrenia\n",
       "0                       CUD              1           0        0              0\n",
       "1  CUD, Depression, Anxiety              1           1        1              0\n",
       "2              CUD, Anxiety              1           0        1              0\n",
       "3                       CUD              1           0        0              0\n",
       "4  CUD, Depression, Anxiety              1           1        1              0"
      ]
     },
     "execution_count": 11,
     "metadata": {},
     "output_type": "execute_result"
    }
   ],
   "source": [
    "# Define key psychiatric disorders\n",
    "psych_disorders = [\"Depression\", \"Anxiety\", \"Schizophrenia\"]\n",
    "\n",
    "# Create binary columns for each disorder (1 if present, 0 otherwise) using df.assign()\n",
    "df = df.assign(**{disorder: df[\"DIAGNOSIS\"].apply(lambda x: 1 if disorder in str(x) else 0) for disorder in psych_disorders})\n",
    "\n",
    "# Verify changes\n",
    "df[[\"DIAGNOSIS\", \"CUD_Diagnosis\", \"Depression\", \"Anxiety\", \"Schizophrenia\"]].head()\n"
   ]
  },
  {
   "cell_type": "code",
   "execution_count": 13,
   "id": "3c05c35b-56c8-4dcc-8308-a271c2055614",
   "metadata": {},
   "outputs": [
    {
     "name": "stderr",
     "output_type": "stream",
     "text": [
      "/var/folders/cg/f8fbrhz54j31_b4ng4zd8zkh0000gn/T/ipykernel_81887/3910393608.py:5: FutureWarning: \n",
      "\n",
      "Passing `palette` without assigning `hue` is deprecated and will be removed in v0.14.0. Assign the `x` variable to `hue` and set `legend=False` for the same effect.\n",
      "\n",
      "  sns.countplot(data=df, x=\"CUD_Diagnosis\", palette=[\"blue\", \"red\"])\n"
     ]
    },
    {
     "data": {
      "image/png": "[encoded data removed]",
      "text/plain": [
       "<Figure size 600x400 with 1 Axes>"
      ]
     },
     "metadata": {},
     "output_type": "display_data"
    }
   ],
   "source": [
    "import matplotlib.pyplot as plt\n",
    "import seaborn as sns\n",
    "\n",
    "plt.figure(figsize=(6,4))\n",
    "sns.countplot(data=df, x=\"CUD_Diagnosis\", palette=[\"blue\", \"red\"])\n",
    "plt.title(\"CUD vs. Non-CUD Patient Distribution\")\n",
    "plt.xlabel(\"CUD Diagnosis (0 = No CUD, 1 = CUD)\")\n",
    "plt.ylabel(\"Count\")\n",
    "plt.xticks([0, 1], [\"Non-CUD (0)\", \"CUD (1)\"])\n",
    "plt.show()"
   ]
  },
  {
   "cell_type": "code",
   "execution_count": 15,
   "id": "27522d2d-8775-45bf-8e64-f2e27cd24d28",
   "metadata": {},
   "outputs": [
    {
     "data": {
      "image/png": "[encoded data removed]",
      "text/plain": [
       "<Figure size 800x500 with 1 Axes>"
      ]
     },
     "metadata": {},
     "output_type": "display_data"
    }
   ],
   "source": [
    "plt.figure(figsize=(8,5))\n",
    "sns.histplot(df[df[\"CUD_Diagnosis\"]==0][\"AGE\"], bins=30, kde=True, color='blue', label=\"Non-CUD (0)\")\n",
    "sns.histplot(df[df[\"CUD_Diagnosis\"]==1][\"AGE\"], bins=30, kde=True, color='red', label=\"CUD (1)\")\n",
    "plt.title(\"Age Distribution: CUD vs. Non-CUD\")\n",
    "plt.xlabel(\"Age\")\n",
    "plt.ylabel(\"Count\")\n",
    "plt.legend()\n",
    "plt.show()\n"
   ]
  },
  {
   "cell_type": "code",
   "execution_count": 17,
   "id": "0f576d1b-00f9-45d6-b684-2d3e07c32e4a",
   "metadata": {},
   "outputs": [
    {
     "data": {
      "image/png": "[encoded data removed]",
      "text/plain": [
       "<Figure size 600x400 with 1 Axes>"
      ]
     },
     "metadata": {},
     "output_type": "display_data"
    }
   ],
   "source": [
    "plt.figure(figsize=(6,4))\n",
    "sns.countplot(data=df, x=\"SEX\", hue=\"CUD_Diagnosis\", palette=[\"blue\", \"red\"])\n",
    "plt.title(\"Sex Distribution: CUD vs. Non-CUD\")\n",
    "plt.xlabel(\"Sex\")\n",
    "plt.ylabel(\"Count\")\n",
    "plt.legend([\"Non-CUD\", \"CUD\"])\n",
    "plt.show()\n"
   ]
  },
  {
   "cell_type": "code",
   "execution_count": 19,
   "id": "54e3d309-c071-406f-81a3-58675e6db44b",
   "metadata": {},
   "outputs": [
    {
     "data": {
      "image/png": "[encoded data removed]",
      "text/plain": [
       "<Figure size 800x500 with 1 Axes>"
      ]
     },
     "metadata": {},
     "output_type": "display_data"
    }
   ],
   "source": [
    "plt.figure(figsize=(8,5))\n",
    "sns.countplot(data=df, y=\"MARITAL_STATUS\", hue=\"CUD_Diagnosis\", palette=[\"blue\", \"red\"], order=df[\"MARITAL_STATUS\"].value_counts().index)\n",
    "plt.title(\"Marital Status: CUD vs. Non-CUD\")\n",
    "plt.xlabel(\"Count\")\n",
    "plt.ylabel(\"Marital Status\")\n",
    "plt.legend([\"Non-CUD\", \"CUD\"])\n",
    "plt.show()\n"
   ]
  },
  {
   "cell_type": "code",
   "execution_count": 23,
   "id": "e98a6226-1313-46ea-a072-2506adac56eb",
   "metadata": {},
   "outputs": [
    {
     "data": {
      "image/png": "[encoded data removed]",
      "text/plain": [
       "<Figure size 800x600 with 1 Axes>"
      ]
     },
     "metadata": {},
     "output_type": "display_data"
    }
   ],
   "source": [
    "df.groupby(\"CUD_Diagnosis\")[psych_disorders].mean().plot(kind=\"bar\", figsize=(8,6), color=[\"blue\", \"red\", \"yellow\"])\n",
    "plt.title(\"Psychiatric Disorders in CUD vs. Non-CUD\")\n",
    "plt.ylabel(\"Proportion of Patients\")\n",
    "plt.xlabel(\"CUD Diagnosis (0 = No CUD, 1 = CUD)\")\n",
    "plt.legend(title=\"Psychiatric Disorders\")\n",
    "plt.show()\n"
   ]
  },
  {
   "cell_type": "code",
   "execution_count": 25,
   "id": "a96f3ce8-14ed-428a-97ec-9dc651b4af26",
   "metadata": {},
   "outputs": [
    {
     "name": "stdout",
     "output_type": "stream",
     "text": [
      "Chi-Square Test for Depression: p-value = 0.0000\n",
      "Chi-Square Test for Anxiety: p-value = 0.0000\n",
      "Chi-Square Test for Schizophrenia: p-value = 0.0000\n"
     ]
    }
   ],
   "source": [
    "from scipy.stats import chi2_contingency\n",
    "\n",
    "for disorder in psych_disorders:\n",
    "    contingency_table = pd.crosstab(df[\"CUD_Diagnosis\"], df[disorder])\n",
    "    chi2, p, _, _ = chi2_contingency(contingency_table)\n",
    "    print(f\"Chi-Square Test for {disorder}: p-value = {p:.4f}\")\n"
   ]
  },
  {
   "cell_type": "code",
   "execution_count": 27,
   "id": "965a246c-244c-48a0-ba9f-aabed0bef6de",
   "metadata": {},
   "outputs": [
    {
     "name": "stdout",
     "output_type": "stream",
     "text": [
      "\n",
      "Odds Ratios for CUD and Psychiatric Disorders:\n",
      "               Odds Ratio\n",
      "Depression       0.757222\n",
      "Anxiety          0.354701\n",
      "Schizophrenia    3.740250\n"
     ]
    }
   ],
   "source": [
    "import numpy as np\n",
    "\n",
    "# Create a table of odds ratios\n",
    "odds_ratios = {}\n",
    "\n",
    "for disorder in psych_disorders:\n",
    "    # Cross-tabulation\n",
    "    table = pd.crosstab(df[\"CUD_Diagnosis\"], df[disorder])\n",
    "    \n",
    "    # Calculate odds ratio\n",
    "    odds_ratio = (table.iloc[1,1] / table.iloc[1,0]) / (table.iloc[0,1] / table.iloc[0,0])\n",
    "    \n",
    "    # Store in dictionary\n",
    "    odds_ratios[disorder] = odds_ratio\n",
    "\n",
    "# Convert to DataFrame and display\n",
    "odds_ratios_df = pd.DataFrame(odds_ratios, index=[\"Odds Ratio\"]).T\n",
    "print(\"\\nOdds Ratios for CUD and Psychiatric Disorders:\")\n",
    "print(odds_ratios_df)\n"
   ]
  },
  {
   "cell_type": "code",
   "execution_count": 31,
   "id": "e1bb312b-7f6b-4319-8d49-273c0bbb4b1c",
   "metadata": {},
   "outputs": [
    {
     "data": {
      "image/png": "[encoded data removed]",
      "text/plain": [
       "<Figure size 800x600 with 1 Axes>"
      ]
     },
     "metadata": {},
     "output_type": "display_data"
    }
   ],
   "source": [
    "df.groupby(\"CUD_Diagnosis\")[psych_disorders].mean().plot(kind=\"bar\", figsize=(8,6), color=[\"blue\", \"red\",\"yellow\"])\n",
    "plt.title(\"Psychiatric Disorders in CUD vs. Non-CUD\")\n",
    "plt.ylabel(\"Proportion of Patients\")\n",
    "plt.xlabel(\"CUD Diagnosis (0 = No CUD, 1 = CUD)\")\n",
    "plt.legend(title=\"Psychiatric Disorders\")\n",
    "plt.show()\n"
   ]
  },
  {
   "cell_type": "code",
   "execution_count": 34,
   "id": "1dc4eabd-8c54-4c23-9571-f6b5be0ddbb9",
   "metadata": {},
   "outputs": [
    {
     "name": "stdout",
     "output_type": "stream",
     "text": [
      "Optimization terminated successfully.\n",
      "         Current function value: 0.373888\n",
      "         Iterations 6\n",
      "\n",
      "Odds Ratios with Confidence Intervals:\n",
      "               Odds Ratio  Lower CI  Upper CI\n",
      "const            0.445459  0.430021  0.461452\n",
      "Depression       0.596853  0.578044  0.616274\n",
      "Anxiety          0.317978  0.307539  0.328771\n",
      "Schizophrenia    3.275443  3.070008  3.494625\n"
     ]
    }
   ],
   "source": [
    "import statsmodels.api as sm\n",
    "import numpy as np\n",
    "\n",
    "# Create logistic regression model\n",
    "X = df[psych_disorders]  # Independent variables\n",
    "X = sm.add_constant(X)    # Add intercept\n",
    "y = df[\"CUD_Diagnosis\"]   # Dependent variable (CUD vs. Non-CUD)\n",
    "\n",
    "logit_model = sm.Logit(y, X)\n",
    "result = logit_model.fit()\n",
    "\n",
    "# Extract Odds Ratios and Confidence Intervals\n",
    "odds_ratios = np.exp(result.params)  # Convert log odds to OR\n",
    "conf = np.exp(result.conf_int())  # Convert confidence intervals\n",
    "\n",
    "# Format output\n",
    "conf.columns = [\"Lower CI\", \"Upper CI\"]\n",
    "odds_table = pd.DataFrame({\"Odds Ratio\": odds_ratios})\n",
    "odds_table = pd.concat([odds_table, conf], axis=1)\n",
    "\n",
    "# Display results\n",
    "print(\"\\nOdds Ratios with Confidence Intervals:\")\n",
    "print(odds_table)\n"
   ]
  },
  {
   "cell_type": "code",
   "execution_count": 36,
   "id": "09447043-b597-418b-8c5d-59d11dfbb720",
   "metadata": {},
   "outputs": [
    {
     "name": "stdout",
     "output_type": "stream",
     "text": [
      "\n",
      "Depression Rate in Non-CUD Patients: 0.6012759170653907\n",
      "Depression Rate in CUD Patients: 0.5331228703146923\n",
      "\n",
      "Anxiety Rate in Non-CUD Patients: 0.809639397829385\n",
      "Anxiety Rate in CUD Patients: 0.60137302064542\n"
     ]
    }
   ],
   "source": [
    "# Count patients with Depression & Anxiety in CUD vs. Non-CUD groups\n",
    "depression_counts = df.groupby(\"CUD_Diagnosis\")[\"Depression\"].sum()\n",
    "anxiety_counts = df.groupby(\"CUD_Diagnosis\")[\"Anxiety\"].sum()\n",
    "\n",
    "# Normalize by total count in each group\n",
    "cud_total = df[\"CUD_Diagnosis\"].value_counts()[1]\n",
    "non_cud_total = df[\"CUD_Diagnosis\"].value_counts()[0]\n",
    "\n",
    "depression_rates = depression_counts / [non_cud_total, cud_total]\n",
    "anxiety_rates = anxiety_counts / [non_cud_total, cud_total]\n",
    "\n",
    "print(\"\\nDepression Rate in Non-CUD Patients:\", depression_rates[0])\n",
    "print(\"Depression Rate in CUD Patients:\", depression_rates[1])\n",
    "\n",
    "print(\"\\nAnxiety Rate in Non-CUD Patients:\", anxiety_rates[0])\n",
    "print(\"Anxiety Rate in CUD Patients:\", anxiety_rates[1])\n"
   ]
  },
  {
   "cell_type": "code",
   "execution_count": 38,
   "id": "fef0c26e-dea1-40c8-99a4-425517df6f94",
   "metadata": {},
   "outputs": [
    {
     "name": "stdout",
     "output_type": "stream",
     "text": [
      "\n",
      "Average Number of Diagnoses per Patient:\n",
      "CUD_Diagnosis\n",
      "0    1.434979\n",
      "1    2.218932\n",
      "Name: num_diagnoses, dtype: float64\n"
     ]
    }
   ],
   "source": [
    "# Count the number of diagnoses per patient\n",
    "df[\"num_diagnoses\"] = df[\"DIAGNOSIS\"].apply(lambda x: len(str(x).split(\",\")))\n",
    "\n",
    "# Compare average number of diagnoses in CUD vs. Non-CUD patients\n",
    "avg_diagnoses = df.groupby(\"CUD_Diagnosis\")[\"num_diagnoses\"].mean()\n",
    "\n",
    "print(\"\\nAverage Number of Diagnoses per Patient:\")\n",
    "print(avg_diagnoses)\n"
   ]
  },
  {
   "cell_type": "code",
   "execution_count": 40,
   "id": "bbd091ad-3e9a-499d-b8b7-adc945a5170c",
   "metadata": {},
   "outputs": [
    {
     "name": "stdout",
     "output_type": "stream",
     "text": [
      "\n",
      "Among Schizophrenia Patients, % with Depression: 56.59%\n",
      "Among Schizophrenia Patients, % with Anxiety: 65.57%\n"
     ]
    }
   ],
   "source": [
    "# Check how often Schizophrenia co-occurs with Depression & Anxiety\n",
    "schizophrenia_depression = df[(df[\"Schizophrenia\"] == 1) & (df[\"Depression\"] == 1)].shape[0]\n",
    "schizophrenia_anxiety = df[(df[\"Schizophrenia\"] == 1) & (df[\"Anxiety\"] == 1)].shape[0]\n",
    "\n",
    "total_schizophrenia = df[df[\"Schizophrenia\"] == 1].shape[0]\n",
    "\n",
    "# Calculate proportions\n",
    "schizo_dep_percentage = schizophrenia_depression / total_schizophrenia\n",
    "schizo_anx_percentage = schizophrenia_anxiety / total_schizophrenia\n",
    "\n",
    "print(f\"\\nAmong Schizophrenia Patients, % with Depression: {schizo_dep_percentage:.2%}\")\n",
    "print(f\"Among Schizophrenia Patients, % with Anxiety: {schizo_anx_percentage:.2%}\")\n"
   ]
  },
  {
   "cell_type": "code",
   "execution_count": 42,
   "id": "9bdbc0a7-c0da-48a2-afb6-4554577b24ed",
   "metadata": {},
   "outputs": [
    {
     "name": "stdout",
     "output_type": "stream",
     "text": [
      "\n",
      "% of CUD Patients Diagnosed ONLY with Schizophrenia: 1.12%\n"
     ]
    }
   ],
   "source": [
    "# Count patients with ONLY Schizophrenia (no Depression or Anxiety)\n",
    "schizo_only_cud = df[(df[\"CUD_Diagnosis\"] == 1) & (df[\"Schizophrenia\"] == 1) & \n",
    "                     (df[\"Depression\"] == 0) & (df[\"Anxiety\"] == 0)].shape[0]\n",
    "\n",
    "total_cud = df[df[\"CUD_Diagnosis\"] == 1].shape[0]\n",
    "\n",
    "schizo_only_cud_percentage = schizo_only_cud / total_cud\n",
    "\n",
    "print(f\"\\n% of CUD Patients Diagnosed ONLY with Schizophrenia: {schizo_only_cud_percentage:.2%}\")\n"
   ]
  },
  {
   "cell_type": "code",
   "execution_count": 44,
   "id": "e3394513-0eee-4b89-b60e-6578c3692e29",
   "metadata": {},
   "outputs": [
    {
     "name": "stdout",
     "output_type": "stream",
     "text": [
      "<class 'pandas.core.frame.DataFrame'>\n",
      "RangeIndex: 148491 entries, 0 to 148490\n",
      "Data columns (total 3 columns):\n",
      " #   Column        Non-Null Count   Dtype \n",
      "---  ------        --------------   ----- \n",
      " 0   PATID         148491 non-null  int64 \n",
      " 1   DIAGNOSIS     148491 non-null  object\n",
      " 2   TOTAL_VISITS  148491 non-null  int64 \n",
      "dtypes: int64(2), object(1)\n",
      "memory usage: 3.4+ MB\n"
     ]
    },
    {
     "data": {
      "text/html": [
       "<div>\n",
       "<style scoped>\n",
       "    .dataframe tbody tr th:only-of-type {\n",
       "        vertical-align: middle;\n",
       "    }\n",
       "\n",
       "    .dataframe tbody tr th {\n",
       "        vertical-align: top;\n",
       "    }\n",
       "\n",
       "    .dataframe thead th {\n",
       "        text-align: right;\n",
       "    }\n",
       "</style>\n",
       "<table border=\"1\" class=\"dataframe\">\n",
       "  <thead>\n",
       "    <tr style=\"text-align: right;\">\n",
       "      <th></th>\n",
       "      <th>PATID</th>\n",
       "      <th>DIAGNOSIS</th>\n",
       "      <th>TOTAL_VISITS</th>\n",
       "    </tr>\n",
       "  </thead>\n",
       "  <tbody>\n",
       "    <tr>\n",
       "      <th>0</th>\n",
       "      <td>257875</td>\n",
       "      <td>Depression, Anxiety</td>\n",
       "      <td>3316</td>\n",
       "    </tr>\n",
       "    <tr>\n",
       "      <th>1</th>\n",
       "      <td>971037</td>\n",
       "      <td>Depression, Anxiety, Schizophrenia</td>\n",
       "      <td>2662</td>\n",
       "    </tr>\n",
       "    <tr>\n",
       "      <th>2</th>\n",
       "      <td>305639</td>\n",
       "      <td>CUD</td>\n",
       "      <td>2472</td>\n",
       "    </tr>\n",
       "    <tr>\n",
       "      <th>3</th>\n",
       "      <td>371419</td>\n",
       "      <td>Depression, Anxiety</td>\n",
       "      <td>2307</td>\n",
       "    </tr>\n",
       "    <tr>\n",
       "      <th>4</th>\n",
       "      <td>2038617</td>\n",
       "      <td>Depression, Anxiety, Schizophrenia</td>\n",
       "      <td>2304</td>\n",
       "    </tr>\n",
       "  </tbody>\n",
       "</table>\n",
       "</div>"
      ],
      "text/plain": [
       "     PATID                           DIAGNOSIS  TOTAL_VISITS\n",
       "0   257875                 Depression, Anxiety          3316\n",
       "1   971037  Depression, Anxiety, Schizophrenia          2662\n",
       "2   305639                                 CUD          2472\n",
       "3   371419                 Depression, Anxiety          2307\n",
       "4  2038617  Depression, Anxiety, Schizophrenia          2304"
      ]
     },
     "execution_count": 44,
     "metadata": {},
     "output_type": "execute_result"
    }
   ],
   "source": [
    "# Load the second dataset (number of visits)\n",
    "visits_df = pd.read_excel(\"no_of_visits.xlsx\")\n",
    "\n",
    "# Display basic info and preview\n",
    "visits_df.info()\n",
    "visits_df.head()\n"
   ]
  },
  {
   "cell_type": "code",
   "execution_count": 46,
   "id": "80c0f3a5-1f2e-40df-9b7e-c75ac1527946",
   "metadata": {},
   "outputs": [
    {
     "data": {
      "text/html": [
       "<div>\n",
       "<style scoped>\n",
       "    .dataframe tbody tr th:only-of-type {\n",
       "        vertical-align: middle;\n",
       "    }\n",
       "\n",
       "    .dataframe tbody tr th {\n",
       "        vertical-align: top;\n",
       "    }\n",
       "\n",
       "    .dataframe thead th {\n",
       "        text-align: right;\n",
       "    }\n",
       "</style>\n",
       "<table border=\"1\" class=\"dataframe\">\n",
       "  <thead>\n",
       "    <tr style=\"text-align: right;\">\n",
       "      <th></th>\n",
       "      <th>PATID</th>\n",
       "      <th>BIRTH_DATE</th>\n",
       "      <th>BIRTH_TIME</th>\n",
       "      <th>SEX</th>\n",
       "      <th>HISPANIC</th>\n",
       "      <th>MARITAL_STATUS</th>\n",
       "      <th>PREFERRED_LANGUAGE</th>\n",
       "      <th>DIAGNOSIS_x</th>\n",
       "      <th>AGE</th>\n",
       "      <th>CUD_Diagnosis</th>\n",
       "      <th>Depression</th>\n",
       "      <th>Anxiety</th>\n",
       "      <th>Schizophrenia</th>\n",
       "      <th>num_diagnoses</th>\n",
       "      <th>DIAGNOSIS_y</th>\n",
       "      <th>TOTAL_VISITS</th>\n",
       "    </tr>\n",
       "  </thead>\n",
       "  <tbody>\n",
       "    <tr>\n",
       "      <th>0</th>\n",
       "      <td>3052085</td>\n",
       "      <td>1993-12-10 06:00:00</td>\n",
       "      <td>06:00:00</td>\n",
       "      <td>F</td>\n",
       "      <td>N</td>\n",
       "      <td>Single</td>\n",
       "      <td>ENG</td>\n",
       "      <td>CUD</td>\n",
       "      <td>31</td>\n",
       "      <td>1</td>\n",
       "      <td>0</td>\n",
       "      <td>0</td>\n",
       "      <td>0</td>\n",
       "      <td>1</td>\n",
       "      <td>CUD</td>\n",
       "      <td>2</td>\n",
       "    </tr>\n",
       "    <tr>\n",
       "      <th>1</th>\n",
       "      <td>617820</td>\n",
       "      <td>1985-10-12 06:00:00</td>\n",
       "      <td>06:00:00</td>\n",
       "      <td>F</td>\n",
       "      <td>N</td>\n",
       "      <td>Single</td>\n",
       "      <td>ENG</td>\n",
       "      <td>CUD, Depression, Anxiety</td>\n",
       "      <td>39</td>\n",
       "      <td>1</td>\n",
       "      <td>1</td>\n",
       "      <td>1</td>\n",
       "      <td>0</td>\n",
       "      <td>3</td>\n",
       "      <td>CUD, Depression, Anxiety</td>\n",
       "      <td>116</td>\n",
       "    </tr>\n",
       "    <tr>\n",
       "      <th>2</th>\n",
       "      <td>2196185</td>\n",
       "      <td>1977-06-17 06:00:00</td>\n",
       "      <td>06:00:00</td>\n",
       "      <td>F</td>\n",
       "      <td>N</td>\n",
       "      <td>Divorced</td>\n",
       "      <td>ENG</td>\n",
       "      <td>CUD, Anxiety</td>\n",
       "      <td>47</td>\n",
       "      <td>1</td>\n",
       "      <td>0</td>\n",
       "      <td>1</td>\n",
       "      <td>0</td>\n",
       "      <td>2</td>\n",
       "      <td>CUD, Anxiety</td>\n",
       "      <td>41</td>\n",
       "    </tr>\n",
       "    <tr>\n",
       "      <th>3</th>\n",
       "      <td>2673434</td>\n",
       "      <td>1988-04-28 06:00:00</td>\n",
       "      <td>06:00:00</td>\n",
       "      <td>M</td>\n",
       "      <td>N</td>\n",
       "      <td>Married</td>\n",
       "      <td>ENG</td>\n",
       "      <td>CUD</td>\n",
       "      <td>36</td>\n",
       "      <td>1</td>\n",
       "      <td>0</td>\n",
       "      <td>0</td>\n",
       "      <td>0</td>\n",
       "      <td>1</td>\n",
       "      <td>CUD</td>\n",
       "      <td>66</td>\n",
       "    </tr>\n",
       "    <tr>\n",
       "      <th>4</th>\n",
       "      <td>128923</td>\n",
       "      <td>1962-05-15 06:00:00</td>\n",
       "      <td>06:00:00</td>\n",
       "      <td>F</td>\n",
       "      <td>N</td>\n",
       "      <td>Divorced</td>\n",
       "      <td>ENG</td>\n",
       "      <td>CUD, Depression, Anxiety</td>\n",
       "      <td>62</td>\n",
       "      <td>1</td>\n",
       "      <td>1</td>\n",
       "      <td>1</td>\n",
       "      <td>0</td>\n",
       "      <td>3</td>\n",
       "      <td>CUD, Depression, Anxiety</td>\n",
       "      <td>356</td>\n",
       "    </tr>\n",
       "  </tbody>\n",
       "</table>\n",
       "</div>"
      ],
      "text/plain": [
       "     PATID          BIRTH_DATE BIRTH_TIME SEX HISPANIC MARITAL_STATUS  \\\n",
       "0  3052085 1993-12-10 06:00:00   06:00:00   F        N         Single   \n",
       "1   617820 1985-10-12 06:00:00   06:00:00   F        N         Single   \n",
       "2  2196185 1977-06-17 06:00:00   06:00:00   F        N       Divorced   \n",
       "3  2673434 1988-04-28 06:00:00   06:00:00   M        N        Married   \n",
       "4   128923 1962-05-15 06:00:00   06:00:00   F        N       Divorced   \n",
       "\n",
       "  PREFERRED_LANGUAGE               DIAGNOSIS_x  AGE  CUD_Diagnosis  \\\n",
       "0                ENG                       CUD   31              1   \n",
       "1                ENG  CUD, Depression, Anxiety   39              1   \n",
       "2                ENG              CUD, Anxiety   47              1   \n",
       "3                ENG                       CUD   36              1   \n",
       "4                ENG  CUD, Depression, Anxiety   62              1   \n",
       "\n",
       "   Depression  Anxiety  Schizophrenia  num_diagnoses  \\\n",
       "0           0        0              0              1   \n",
       "1           1        1              0              3   \n",
       "2           0        1              0              2   \n",
       "3           0        0              0              1   \n",
       "4           1        1              0              3   \n",
       "\n",
       "                DIAGNOSIS_y  TOTAL_VISITS  \n",
       "0                       CUD             2  \n",
       "1  CUD, Depression, Anxiety           116  \n",
       "2              CUD, Anxiety            41  \n",
       "3                       CUD            66  \n",
       "4  CUD, Depression, Anxiety           356  "
      ]
     },
     "execution_count": 46,
     "metadata": {},
     "output_type": "execute_result"
    }
   ],
   "source": [
    "# Merge both datasets using PATID as the common key\n",
    "merged_df = df.merge(visits_df, on=\"PATID\", how=\"left\")\n",
    "\n",
    "# Display the merged dataset\n",
    "merged_df.head()\n"
   ]
  },
  {
   "cell_type": "code",
   "execution_count": 48,
   "id": "7f059020-39de-4154-a25b-c20b40f2d37e",
   "metadata": {},
   "outputs": [
    {
     "name": "stdout",
     "output_type": "stream",
     "text": [
      "\n",
      "Average Number of Healthcare Visits per Patient:\n",
      "CUD_Diagnosis\n",
      "0    68.398133\n",
      "1    65.404690\n",
      "Name: TOTAL_VISITS, dtype: float64\n"
     ]
    }
   ],
   "source": [
    "# Compare average number of visits for CUD vs. Non-CUD patients\n",
    "avg_visits = merged_df.groupby(\"CUD_Diagnosis\")[\"TOTAL_VISITS\"].mean()\n",
    "\n",
    "print(\"\\nAverage Number of Healthcare Visits per Patient:\")\n",
    "print(avg_visits)\n"
   ]
  },
  {
   "cell_type": "code",
   "execution_count": 50,
   "id": "13ff452d-2cf0-4253-a995-324f057ae4ee",
   "metadata": {},
   "outputs": [
    {
     "data": {
      "image/png": "[encoded data removed]",
      "text/plain": [
       "<Figure size 800x500 with 1 Axes>"
      ]
     },
     "metadata": {},
     "output_type": "display_data"
    }
   ],
   "source": [
    "import seaborn as sns\n",
    "import matplotlib.pyplot as plt\n",
    "\n",
    "plt.figure(figsize=(8,5))\n",
    "sns.boxplot(x=\"CUD_Diagnosis\", y=\"TOTAL_VISITS\", data=merged_df)\n",
    "plt.title(\"Distribution of Healthcare Visits: CUD vs. Non-CUD Patients\")\n",
    "plt.xlabel(\"CUD Diagnosis (0 = No CUD, 1 = CUD)\")\n",
    "plt.ylabel(\"Total Visits\")\n",
    "plt.show()\n"
   ]
  },
  {
   "cell_type": "code",
   "execution_count": 52,
   "id": "97d90ff1-ec02-4308-829a-076c5f1ae572",
   "metadata": {},
   "outputs": [
    {
     "name": "stdout",
     "output_type": "stream",
     "text": [
      "T-test for Visit Differences: t-stat = -3.8665, p-value = 0.0001\n"
     ]
    }
   ],
   "source": [
    "from scipy.stats import ttest_ind\n",
    "\n",
    "# Separate visit counts for CUD and Non-CUD patients\n",
    "cud_visits = merged_df[merged_df[\"CUD_Diagnosis\"] == 1][\"TOTAL_VISITS\"]\n",
    "non_cud_visits = merged_df[merged_df[\"CUD_Diagnosis\"] == 0][\"TOTAL_VISITS\"]\n",
    "\n",
    "# Perform T-test to check if visit differences are statistically significant\n",
    "t_stat, p_value = ttest_ind(cud_visits, non_cud_visits, equal_var=False)\n",
    "print(f\"T-test for Visit Differences: t-stat = {t_stat:.4f}, p-value = {p_value:.4f}\")\n"
   ]
  },
  {
   "cell_type": "code",
   "execution_count": 56,
   "id": "16a28d7c-1c80-400e-b76f-513dd929da80",
   "metadata": {},
   "outputs": [
    {
     "name": "stdout",
     "output_type": "stream",
     "text": [
      "<class 'pandas.core.frame.DataFrame'>\n",
      "RangeIndex: 165018 entries, 0 to 165017\n",
      "Data columns (total 3 columns):\n",
      " #   Column                Non-Null Count   Dtype         \n",
      "---  ------                --------------   -----         \n",
      " 0   PATID                 165018 non-null  int64         \n",
      " 1   FIRST_DIAGNOSIS       165018 non-null  object        \n",
      " 2   FIRST_DIAGNOSIS_DATE  165018 non-null  datetime64[ns]\n",
      "dtypes: datetime64[ns](1), int64(1), object(1)\n",
      "memory usage: 3.8+ MB\n"
     ]
    },
    {
     "data": {
      "text/html": [
       "<div>\n",
       "<style scoped>\n",
       "    .dataframe tbody tr th:only-of-type {\n",
       "        vertical-align: middle;\n",
       "    }\n",
       "\n",
       "    .dataframe tbody tr th {\n",
       "        vertical-align: top;\n",
       "    }\n",
       "\n",
       "    .dataframe thead th {\n",
       "        text-align: right;\n",
       "    }\n",
       "</style>\n",
       "<table border=\"1\" class=\"dataframe\">\n",
       "  <thead>\n",
       "    <tr style=\"text-align: right;\">\n",
       "      <th></th>\n",
       "      <th>PATID</th>\n",
       "      <th>FIRST_DIAGNOSIS</th>\n",
       "      <th>FIRST_DIAGNOSIS_DATE</th>\n",
       "    </tr>\n",
       "  </thead>\n",
       "  <tbody>\n",
       "    <tr>\n",
       "      <th>0</th>\n",
       "      <td>2171302</td>\n",
       "      <td>Anxiety</td>\n",
       "      <td>2001-03-20</td>\n",
       "    </tr>\n",
       "    <tr>\n",
       "      <th>1</th>\n",
       "      <td>2768431</td>\n",
       "      <td>Anxiety</td>\n",
       "      <td>2005-05-26</td>\n",
       "    </tr>\n",
       "    <tr>\n",
       "      <th>2</th>\n",
       "      <td>265333</td>\n",
       "      <td>Anxiety</td>\n",
       "      <td>2005-09-02</td>\n",
       "    </tr>\n",
       "    <tr>\n",
       "      <th>3</th>\n",
       "      <td>2717674</td>\n",
       "      <td>Depression</td>\n",
       "      <td>2006-02-01</td>\n",
       "    </tr>\n",
       "    <tr>\n",
       "      <th>4</th>\n",
       "      <td>2386275</td>\n",
       "      <td>Anxiety</td>\n",
       "      <td>2007-01-17</td>\n",
       "    </tr>\n",
       "  </tbody>\n",
       "</table>\n",
       "</div>"
      ],
      "text/plain": [
       "     PATID FIRST_DIAGNOSIS FIRST_DIAGNOSIS_DATE\n",
       "0  2171302         Anxiety           2001-03-20\n",
       "1  2768431         Anxiety           2005-05-26\n",
       "2   265333         Anxiety           2005-09-02\n",
       "3  2717674      Depression           2006-02-01\n",
       "4  2386275         Anxiety           2007-01-17"
      ]
     },
     "execution_count": 56,
     "metadata": {},
     "output_type": "execute_result"
    }
   ],
   "source": [
    "# Load the first diagnosis dataset\n",
    "first_diag_df = pd.read_excel(\"first_diag.xlsx\")\n",
    "\n",
    "# Display basic info and preview\n",
    "first_diag_df.info()\n",
    "first_diag_df.head()\n"
   ]
  },
  {
   "cell_type": "code",
   "execution_count": 58,
   "id": "dac78083-c22c-4f5c-af88-d43a96d6dd18",
   "metadata": {},
   "outputs": [
    {
     "data": {
      "text/html": [
       "<div>\n",
       "<style scoped>\n",
       "    .dataframe tbody tr th:only-of-type {\n",
       "        vertical-align: middle;\n",
       "    }\n",
       "\n",
       "    .dataframe tbody tr th {\n",
       "        vertical-align: top;\n",
       "    }\n",
       "\n",
       "    .dataframe thead th {\n",
       "        text-align: right;\n",
       "    }\n",
       "</style>\n",
       "<table border=\"1\" class=\"dataframe\">\n",
       "  <thead>\n",
       "    <tr style=\"text-align: right;\">\n",
       "      <th></th>\n",
       "      <th>PATID</th>\n",
       "      <th>BIRTH_DATE</th>\n",
       "      <th>BIRTH_TIME</th>\n",
       "      <th>SEX</th>\n",
       "      <th>HISPANIC</th>\n",
       "      <th>MARITAL_STATUS</th>\n",
       "      <th>PREFERRED_LANGUAGE</th>\n",
       "      <th>DIAGNOSIS_x</th>\n",
       "      <th>AGE</th>\n",
       "      <th>CUD_Diagnosis</th>\n",
       "      <th>Depression</th>\n",
       "      <th>Anxiety</th>\n",
       "      <th>Schizophrenia</th>\n",
       "      <th>num_diagnoses</th>\n",
       "      <th>DIAGNOSIS_y</th>\n",
       "      <th>TOTAL_VISITS</th>\n",
       "      <th>FIRST_DIAGNOSIS</th>\n",
       "      <th>FIRST_DIAGNOSIS_DATE</th>\n",
       "    </tr>\n",
       "  </thead>\n",
       "  <tbody>\n",
       "    <tr>\n",
       "      <th>0</th>\n",
       "      <td>3052085</td>\n",
       "      <td>1993-12-10 06:00:00</td>\n",
       "      <td>06:00:00</td>\n",
       "      <td>F</td>\n",
       "      <td>N</td>\n",
       "      <td>Single</td>\n",
       "      <td>ENG</td>\n",
       "      <td>CUD</td>\n",
       "      <td>31</td>\n",
       "      <td>1</td>\n",
       "      <td>0</td>\n",
       "      <td>0</td>\n",
       "      <td>0</td>\n",
       "      <td>1</td>\n",
       "      <td>CUD</td>\n",
       "      <td>2</td>\n",
       "      <td>Cannabis Use Disorder (CUD)</td>\n",
       "      <td>2021-01-11</td>\n",
       "    </tr>\n",
       "    <tr>\n",
       "      <th>1</th>\n",
       "      <td>617820</td>\n",
       "      <td>1985-10-12 06:00:00</td>\n",
       "      <td>06:00:00</td>\n",
       "      <td>F</td>\n",
       "      <td>N</td>\n",
       "      <td>Single</td>\n",
       "      <td>ENG</td>\n",
       "      <td>CUD, Depression, Anxiety</td>\n",
       "      <td>39</td>\n",
       "      <td>1</td>\n",
       "      <td>1</td>\n",
       "      <td>1</td>\n",
       "      <td>0</td>\n",
       "      <td>3</td>\n",
       "      <td>CUD, Depression, Anxiety</td>\n",
       "      <td>116</td>\n",
       "      <td>Depression</td>\n",
       "      <td>2016-12-02</td>\n",
       "    </tr>\n",
       "    <tr>\n",
       "      <th>2</th>\n",
       "      <td>2196185</td>\n",
       "      <td>1977-06-17 06:00:00</td>\n",
       "      <td>06:00:00</td>\n",
       "      <td>F</td>\n",
       "      <td>N</td>\n",
       "      <td>Divorced</td>\n",
       "      <td>ENG</td>\n",
       "      <td>CUD, Anxiety</td>\n",
       "      <td>47</td>\n",
       "      <td>1</td>\n",
       "      <td>0</td>\n",
       "      <td>1</td>\n",
       "      <td>0</td>\n",
       "      <td>2</td>\n",
       "      <td>CUD, Anxiety</td>\n",
       "      <td>41</td>\n",
       "      <td>Cannabis Use Disorder (CUD)</td>\n",
       "      <td>2018-12-10</td>\n",
       "    </tr>\n",
       "    <tr>\n",
       "      <th>3</th>\n",
       "      <td>2673434</td>\n",
       "      <td>1988-04-28 06:00:00</td>\n",
       "      <td>06:00:00</td>\n",
       "      <td>M</td>\n",
       "      <td>N</td>\n",
       "      <td>Married</td>\n",
       "      <td>ENG</td>\n",
       "      <td>CUD</td>\n",
       "      <td>36</td>\n",
       "      <td>1</td>\n",
       "      <td>0</td>\n",
       "      <td>0</td>\n",
       "      <td>0</td>\n",
       "      <td>1</td>\n",
       "      <td>CUD</td>\n",
       "      <td>66</td>\n",
       "      <td>Cannabis Use Disorder (CUD)</td>\n",
       "      <td>2017-01-14</td>\n",
       "    </tr>\n",
       "    <tr>\n",
       "      <th>4</th>\n",
       "      <td>128923</td>\n",
       "      <td>1962-05-15 06:00:00</td>\n",
       "      <td>06:00:00</td>\n",
       "      <td>F</td>\n",
       "      <td>N</td>\n",
       "      <td>Divorced</td>\n",
       "      <td>ENG</td>\n",
       "      <td>CUD, Depression, Anxiety</td>\n",
       "      <td>62</td>\n",
       "      <td>1</td>\n",
       "      <td>1</td>\n",
       "      <td>1</td>\n",
       "      <td>0</td>\n",
       "      <td>3</td>\n",
       "      <td>CUD, Depression, Anxiety</td>\n",
       "      <td>356</td>\n",
       "      <td>Depression</td>\n",
       "      <td>2018-05-03</td>\n",
       "    </tr>\n",
       "  </tbody>\n",
       "</table>\n",
       "</div>"
      ],
      "text/plain": [
       "     PATID          BIRTH_DATE BIRTH_TIME SEX HISPANIC MARITAL_STATUS  \\\n",
       "0  3052085 1993-12-10 06:00:00   06:00:00   F        N         Single   \n",
       "1   617820 1985-10-12 06:00:00   06:00:00   F        N         Single   \n",
       "2  2196185 1977-06-17 06:00:00   06:00:00   F        N       Divorced   \n",
       "3  2673434 1988-04-28 06:00:00   06:00:00   M        N        Married   \n",
       "4   128923 1962-05-15 06:00:00   06:00:00   F        N       Divorced   \n",
       "\n",
       "  PREFERRED_LANGUAGE               DIAGNOSIS_x  AGE  CUD_Diagnosis  \\\n",
       "0                ENG                       CUD   31              1   \n",
       "1                ENG  CUD, Depression, Anxiety   39              1   \n",
       "2                ENG              CUD, Anxiety   47              1   \n",
       "3                ENG                       CUD   36              1   \n",
       "4                ENG  CUD, Depression, Anxiety   62              1   \n",
       "\n",
       "   Depression  Anxiety  Schizophrenia  num_diagnoses  \\\n",
       "0           0        0              0              1   \n",
       "1           1        1              0              3   \n",
       "2           0        1              0              2   \n",
       "3           0        0              0              1   \n",
       "4           1        1              0              3   \n",
       "\n",
       "                DIAGNOSIS_y  TOTAL_VISITS              FIRST_DIAGNOSIS  \\\n",
       "0                       CUD             2  Cannabis Use Disorder (CUD)   \n",
       "1  CUD, Depression, Anxiety           116                   Depression   \n",
       "2              CUD, Anxiety            41  Cannabis Use Disorder (CUD)   \n",
       "3                       CUD            66  Cannabis Use Disorder (CUD)   \n",
       "4  CUD, Depression, Anxiety           356                   Depression   \n",
       "\n",
       "  FIRST_DIAGNOSIS_DATE  \n",
       "0           2021-01-11  \n",
       "1           2016-12-02  \n",
       "2           2018-12-10  \n",
       "3           2017-01-14  \n",
       "4           2018-05-03  "
      ]
     },
     "execution_count": 58,
     "metadata": {},
     "output_type": "execute_result"
    }
   ],
   "source": [
    "# Merge both datasets using PATID\n",
    "merged_df = merged_df.merge(first_diag_df, on=\"PATID\", how=\"left\")\n",
    "\n",
    "# Display merged dataset\n",
    "merged_df.head()\n"
   ]
  },
  {
   "cell_type": "code",
   "execution_count": 60,
   "id": "5772a5ad-29b2-4297-911f-87ce10fc613c",
   "metadata": {},
   "outputs": [
    {
     "name": "stdout",
     "output_type": "stream",
     "text": [
      "\n",
      "Most Common First Diagnoses for Non-CUD Patients:\n",
      " FIRST_DIAGNOSIS\n",
      "Anxiety          79113\n",
      "Depression       47673\n",
      "Schizophrenia     1749\n",
      "Name: count, dtype: int64\n",
      "\n",
      "Most Common First Diagnoses for CUD Patients:\n",
      " FIRST_DIAGNOSIS\n",
      "Cannabis Use Disorder (CUD)    10570\n",
      "Anxiety                         5210\n",
      "Depression                      3794\n",
      "Schizophrenia                    382\n",
      "Name: count, dtype: int64\n"
     ]
    }
   ],
   "source": [
    "# Count most common FIRST_DIAGNOSIS for Non-CUD patients\n",
    "primary_diag_non_cud = merged_df[merged_df[\"CUD_Diagnosis\"] == 0][\"FIRST_DIAGNOSIS\"].value_counts()\n",
    "\n",
    "# Count most common FIRST_DIAGNOSIS for CUD patients\n",
    "primary_diag_cud = merged_df[merged_df[\"CUD_Diagnosis\"] == 1][\"FIRST_DIAGNOSIS\"].value_counts()\n",
    "\n",
    "print(\"\\nMost Common First Diagnoses for Non-CUD Patients:\\n\", primary_diag_non_cud.head(10))\n",
    "print(\"\\nMost Common First Diagnoses for CUD Patients:\\n\", primary_diag_cud.head(10))\n"
   ]
  },
  {
   "cell_type": "code",
   "execution_count": 62,
   "id": "50558e9b-df18-47e1-a2df-aafd0fef4ef4",
   "metadata": {},
   "outputs": [
    {
     "name": "stdout",
     "output_type": "stream",
     "text": [
      "\n",
      "% of Non-CUD Patients with CUD as First Diagnosis: 0.00%\n",
      "% of CUD Patients with CUD as First Diagnosis: 52.97%\n"
     ]
    }
   ],
   "source": [
    "# Count how many times CUD appears as FIRST_DIAGNOSIS in each group\n",
    "first_cud_non_cud = merged_df[(merged_df[\"CUD_Diagnosis\"] == 0) & (merged_df[\"FIRST_DIAGNOSIS\"].str.contains(\"CUD\", na=False))].shape[0]\n",
    "first_cud_cud = merged_df[(merged_df[\"CUD_Diagnosis\"] == 1) & (merged_df[\"FIRST_DIAGNOSIS\"].str.contains(\"CUD\", na=False))].shape[0]\n",
    "\n",
    "# Calculate proportions\n",
    "total_non_cud = merged_df[merged_df[\"CUD_Diagnosis\"] == 0].shape[0]\n",
    "total_cud = merged_df[merged_df[\"CUD_Diagnosis\"] == 1].shape[0]\n",
    "\n",
    "cud_primary_non_cud_pct = (first_cud_non_cud / total_non_cud) * 100\n",
    "cud_primary_cud_pct = (first_cud_cud / total_cud) * 100\n",
    "\n",
    "print(f\"\\n% of Non-CUD Patients with CUD as First Diagnosis: {cud_primary_non_cud_pct:.2f}%\")\n",
    "print(f\"% of CUD Patients with CUD as First Diagnosis: {cud_primary_cud_pct:.2f}%\")\n"
   ]
  },
  {
   "cell_type": "code",
   "execution_count": 66,
   "id": "e11e3d73-293b-463f-aa5a-38ed52da912b",
   "metadata": {},
   "outputs": [
    {
     "data": {
      "image/png": "[encoded data removed]",
      "text/plain": [
       "<Figure size 800x400 with 1 Axes>"
      ]
     },
     "metadata": {},
     "output_type": "display_data"
    },
    {
     "data": {
      "image/png": "[encoded data removed]",
      "text/plain": [
       "<Figure size 800x400 with 1 Axes>"
      ]
     },
     "metadata": {},
     "output_type": "display_data"
    }
   ],
   "source": [
    "import matplotlib.pyplot as plt\n",
    "import seaborn as sns\n",
    "\n",
    "# Select top 10 first diagnoses for both groups\n",
    "top_first_diag_non_cud = primary_diag_non_cud.head(10)\n",
    "top_first_diag_cud = primary_diag_cud.head(10)\n",
    "\n",
    "# Plot Non-CUD\n",
    "plt.figure(figsize=(8,4))\n",
    "sns.barplot(x=top_first_diag_non_cud.values, y=top_first_diag_non_cud.index, color=\"blue\")\n",
    "plt.title(\"Top First Diagnoses in Non-CUD Patients\")\n",
    "plt.xlabel(\"Number of Patients\")\n",
    "plt.show()\n",
    "\n",
    "# Plot CUD\n",
    "plt.figure(figsize=(8,4))\n",
    "sns.barplot(x=top_first_diag_cud.values, y=top_first_diag_cud.index, color=\"red\")\n",
    "plt.title(\"Top First Diagnoses in CUD Patients\")\n",
    "plt.xlabel(\"Number of Patients\")\n",
    "plt.show()\n"
   ]
  },
  {
   "cell_type": "code",
   "execution_count": 68,
   "id": "033290f9-125d-4cf5-b987-797bac27596e",
   "metadata": {},
   "outputs": [
    {
     "name": "stdout",
     "output_type": "stream",
     "text": [
      "Total duplicate rows: 0\n"
     ]
    }
   ],
   "source": [
    "# Count duplicate rows\n",
    "duplicate_rows = merged_df.duplicated().sum()\n",
    "print(f\"Total duplicate rows: {duplicate_rows}\")\n",
    "\n",
    "# If duplicates exist, display a few examples\n",
    "if duplicate_rows > 0:\n",
    "    print(\"\\nSample duplicate rows:\")\n",
    "    display(merged_df[merged_df.duplicated()].head())\n"
   ]
  },
  {
   "cell_type": "code",
   "execution_count": 70,
   "id": "2089037f-0442-4a78-881e-0623eb401432",
   "metadata": {},
   "outputs": [
    {
     "name": "stdout",
     "output_type": "stream",
     "text": [
      "Total duplicate PATIDs: 0\n"
     ]
    }
   ],
   "source": [
    "# Count duplicate PATIDs\n",
    "duplicate_patids = merged_df[\"PATID\"].duplicated().sum()\n",
    "print(f\"Total duplicate PATIDs: {duplicate_patids}\")\n",
    "\n",
    "# If duplicates exist, display a few\n",
    "if duplicate_patids > 0:\n",
    "    print(\"\\nSample duplicate PATIDs:\")\n",
    "    display(merged_df[merged_df[\"PATID\"].duplicated(keep=False)].sort_values(\"PATID\").head(10))\n"
   ]
  },
  {
   "cell_type": "code",
   "execution_count": 72,
   "id": "ac3c41f5-03a6-4004-a917-c9f2083b96d8",
   "metadata": {},
   "outputs": [
    {
     "name": "stdout",
     "output_type": "stream",
     "text": [
      "\n",
      "Missing Values in Each Column:\n",
      "Series([], dtype: int64)\n"
     ]
    }
   ],
   "source": [
    "# Count missing values per column\n",
    "missing_values = merged_df.isnull().sum()\n",
    "print(\"\\nMissing Values in Each Column:\")\n",
    "print(missing_values[missing_values > 0])  # Show only columns with missing values\n"
   ]
  },
  {
   "cell_type": "code",
   "execution_count": 74,
   "id": "e8c60b7f-aa2d-459e-a6ed-e4b800007fc7",
   "metadata": {},
   "outputs": [
    {
     "name": "stdout",
     "output_type": "stream",
     "text": [
      "\n",
      "Unique values in CUD_Diagnosis: [1 0]\n",
      "\n",
      "Unique values in FIRST_DIAGNOSIS: ['Cannabis Use Disorder (CUD)' 'Depression' 'Anxiety' 'Schizophrenia']\n",
      "\n",
      "Summary Statistics:\n",
      "              PATID                     BIRTH_DATE            AGE  \\\n",
      "count  1.484910e+05                         148491  148491.000000   \n",
      "mean   1.969203e+06  1978-08-20 20:47:49.154534656      46.015530   \n",
      "min    3.230000e+02            1935-01-25 06:00:00       1.000000   \n",
      "25%    1.356560e+06            1961-08-15 05:30:00      28.000000   \n",
      "50%    2.090530e+06            1981-02-22 05:00:00      43.000000   \n",
      "75%    2.647812e+06            1996-03-26 05:00:00      63.000000   \n",
      "max    3.686850e+06            2024-01-05 04:26:00      90.000000   \n",
      "std    9.084595e+05                            NaN      20.862711   \n",
      "\n",
      "       CUD_Diagnosis     Depression        Anxiety  Schizophrenia  \\\n",
      "count  148491.000000  148491.000000  148491.000000  148491.000000   \n",
      "mean        0.134392       0.592117       0.781650       0.032177   \n",
      "min         0.000000       0.000000       0.000000       0.000000   \n",
      "25%         0.000000       0.000000       1.000000       0.000000   \n",
      "50%         0.000000       1.000000       1.000000       0.000000   \n",
      "75%         0.000000       1.000000       1.000000       0.000000   \n",
      "max         1.000000       1.000000       1.000000       1.000000   \n",
      "std         0.341074       0.491443       0.413128       0.176471   \n",
      "\n",
      "       num_diagnoses   TOTAL_VISITS           FIRST_DIAGNOSIS_DATE  \n",
      "count  148491.000000  148491.000000                         148491  \n",
      "mean        1.540336      67.995838  2019-07-31 12:59:10.892875776  \n",
      "min         1.000000       1.000000            2001-03-20 00:00:00  \n",
      "25%         1.000000      12.000000            2016-11-01 00:00:00  \n",
      "50%         1.000000      33.000000            2019-05-21 00:00:00  \n",
      "75%         2.000000      82.000000            2022-03-22 00:00:00  \n",
      "max         4.000000    3316.000000            2040-08-08 00:00:00  \n",
      "std         0.645155     101.327146                            NaN  \n"
     ]
    }
   ],
   "source": [
    "# Check for unexpected values in categorical columns\n",
    "print(\"\\nUnique values in CUD_Diagnosis:\", merged_df[\"CUD_Diagnosis\"].unique())\n",
    "print(\"\\nUnique values in FIRST_DIAGNOSIS:\", merged_df[\"FIRST_DIAGNOSIS\"].unique()[:10])  # Show first 10\n",
    "\n",
    "# Summarize numerical columns\n",
    "print(\"\\nSummary Statistics:\")\n",
    "print(merged_df.describe())\n"
   ]
  },
  {
   "cell_type": "code",
   "execution_count": 76,
   "id": "2318f0f9-80c9-4bfe-9cf0-898aa494d12c",
   "metadata": {},
   "outputs": [
    {
     "name": "stdout",
     "output_type": "stream",
     "text": [
      "Updated dataset size after removing underage patients: (139597, 18)\n"
     ]
    }
   ],
   "source": [
    "# Remove patients younger than 18\n",
    "merged_df = merged_df[merged_df[\"AGE\"] >= 18]\n",
    "\n",
    "# Confirm fix\n",
    "print(f\"Updated dataset size after removing underage patients: {merged_df.shape}\")\n"
   ]
  },
  {
   "cell_type": "code",
   "execution_count": 82,
   "id": "3af7b7c4-a584-4fce-af5e-a1a233e8a0d3",
   "metadata": {},
   "outputs": [
    {
     "name": "stdout",
     "output_type": "stream",
     "text": [
      "Restoring under-18 patients...\n",
      "Final dataset size: (145999, 13)\n",
      "\n",
      "Summary Statistics:\n",
      "              PATID                     BIRTH_DATE            AGE  \\\n",
      "count  1.459990e+05                         145999  145999.000000   \n",
      "mean   1.974715e+06  1979-02-08 17:57:44.812950752      45.541969   \n",
      "min    3.230000e+02            1935-01-25 06:00:00       1.000000   \n",
      "25%    1.365878e+06            1962-03-12 06:00:00      28.000000   \n",
      "50%    2.091748e+06            1981-08-18 05:00:00      43.000000   \n",
      "75%    2.649650e+06            1996-05-27 17:30:00      62.000000   \n",
      "max    3.686850e+06            2024-01-05 04:26:00      90.000000   \n",
      "std    9.049821e+05                            NaN      20.570942   \n",
      "\n",
      "        TOTAL_VISITS           FIRST_DIAGNOSIS_DATE  \n",
      "count  145999.000000                         145999  \n",
      "mean       61.915595  2019-07-18 16:44:54.705443072  \n",
      "min         1.000000            2001-03-20 00:00:00  \n",
      "25%        11.000000            2016-11-08 00:00:00  \n",
      "50%        32.000000            2019-05-21 00:00:00  \n",
      "75%        80.000000            2022-03-09 00:00:00  \n",
      "max       480.000000            2025-02-22 00:00:00  \n",
      "std        78.160792                            NaN  \n"
     ]
    },
    {
     "name": "stderr",
     "output_type": "stream",
     "text": [
      "/var/folders/cg/f8fbrhz54j31_b4ng4zd8zkh0000gn/T/ipykernel_81887/1110221635.py:28: FutureWarning: A value is trying to be set on a copy of a DataFrame or Series through chained assignment using an inplace method.\n",
      "The behavior will change in pandas 3.0. This inplace method will never work because the intermediate object on which we are setting values always behaves as a copy.\n",
      "\n",
      "For example, when doing 'df[col].method(value, inplace=True)', try using 'df.method({col: value}, inplace=True)' or df[col] = df[col].method(value) instead, to perform the operation inplace on the original object.\n",
      "\n",
      "\n",
      "  merged_df[\"TOTAL_VISITS\"].fillna(0, inplace=True)  # Fill missing visits with 0\n",
      "/var/folders/cg/f8fbrhz54j31_b4ng4zd8zkh0000gn/T/ipykernel_81887/1110221635.py:29: FutureWarning: A value is trying to be set on a copy of a DataFrame or Series through chained assignment using an inplace method.\n",
      "The behavior will change in pandas 3.0. This inplace method will never work because the intermediate object on which we are setting values always behaves as a copy.\n",
      "\n",
      "For example, when doing 'df[col].method(value, inplace=True)', try using 'df.method({col: value}, inplace=True)' or df[col] = df[col].method(value) instead, to perform the operation inplace on the original object.\n",
      "\n",
      "\n",
      "  merged_df[\"FIRST_DIAGNOSIS\"].fillna(\"Unknown\", inplace=True)  # Fill missing first diagnoses\n"
     ]
    },
    {
     "ename": "KeyError",
     "evalue": "'CUD_Diagnosis'",
     "output_type": "error",
     "traceback": [
      "\u001b[0;31m---------------------------------------------------------------------------\u001b[0m",
      "\u001b[0;31mKeyError\u001b[0m                                  Traceback (most recent call last)",
      "File \u001b[0;32m/opt/anaconda3/lib/python3.12/site-packages/pandas/core/indexes/base.py:3805\u001b[0m, in \u001b[0;36mIndex.get_loc\u001b[0;34m(self, key)\u001b[0m\n\u001b[1;32m   3804\u001b[0m \u001b[38;5;28;01mtry\u001b[39;00m:\n\u001b[0;32m-> 3805\u001b[0m     \u001b[38;5;28;01mreturn\u001b[39;00m \u001b[38;5;28mself\u001b[39m\u001b[38;5;241m.\u001b[39m_engine\u001b[38;5;241m.\u001b[39mget_loc(casted_key)\n\u001b[1;32m   3806\u001b[0m \u001b[38;5;28;01mexcept\u001b[39;00m \u001b[38;5;167;01mKeyError\u001b[39;00m \u001b[38;5;28;01mas\u001b[39;00m err:\n",
      "File \u001b[0;32mindex.pyx:167\u001b[0m, in \u001b[0;36mpandas._libs.index.IndexEngine.get_loc\u001b[0;34m()\u001b[0m\n",
      "File \u001b[0;32mindex.pyx:196\u001b[0m, in \u001b[0;36mpandas._libs.index.IndexEngine.get_loc\u001b[0;34m()\u001b[0m\n",
      "File \u001b[0;32mpandas/_libs/hashtable_class_helper.pxi:7081\u001b[0m, in \u001b[0;36mpandas._libs.hashtable.PyObjectHashTable.get_item\u001b[0;34m()\u001b[0m\n",
      "File \u001b[0;32mpandas/_libs/hashtable_class_helper.pxi:7089\u001b[0m, in \u001b[0;36mpandas._libs.hashtable.PyObjectHashTable.get_item\u001b[0;34m()\u001b[0m\n",
      "\u001b[0;31mKeyError\u001b[0m: 'CUD_Diagnosis'",
      "\nThe above exception was the direct cause of the following exception:\n",
      "\u001b[0;31mKeyError\u001b[0m                                  Traceback (most recent call last)",
      "Cell \u001b[0;32mIn[82], line 40\u001b[0m\n\u001b[1;32m     37\u001b[0m \u001b[38;5;28mprint\u001b[39m(\u001b[38;5;124m\"\u001b[39m\u001b[38;5;130;01m\\n\u001b[39;00m\u001b[38;5;124mSummary Statistics:\u001b[39m\u001b[38;5;124m\"\u001b[39m)\n\u001b[1;32m     38\u001b[0m \u001b[38;5;28mprint\u001b[39m(merged_df\u001b[38;5;241m.\u001b[39mdescribe())\n\u001b[0;32m---> 40\u001b[0m \u001b[38;5;28mprint\u001b[39m(\u001b[38;5;124m\"\u001b[39m\u001b[38;5;130;01m\\n\u001b[39;00m\u001b[38;5;124mUnique values in CUD_Diagnosis:\u001b[39m\u001b[38;5;124m\"\u001b[39m, merged_df[\u001b[38;5;124m\"\u001b[39m\u001b[38;5;124mCUD_Diagnosis\u001b[39m\u001b[38;5;124m\"\u001b[39m]\u001b[38;5;241m.\u001b[39munique())\n\u001b[1;32m     41\u001b[0m \u001b[38;5;28mprint\u001b[39m(\u001b[38;5;124m\"\u001b[39m\u001b[38;5;130;01m\\n\u001b[39;00m\u001b[38;5;124mUnique values in FIRST_DIAGNOSIS:\u001b[39m\u001b[38;5;124m\"\u001b[39m, merged_df[\u001b[38;5;124m\"\u001b[39m\u001b[38;5;124mFIRST_DIAGNOSIS\u001b[39m\u001b[38;5;124m\"\u001b[39m]\u001b[38;5;241m.\u001b[39munique()[:\u001b[38;5;241m10\u001b[39m])\n\u001b[1;32m     43\u001b[0m \u001b[38;5;66;03m# 9️⃣ Confirm Under-18 Patients Are Present\u001b[39;00m\n",
      "File \u001b[0;32m/opt/anaconda3/lib/python3.12/site-packages/pandas/core/frame.py:4102\u001b[0m, in \u001b[0;36mDataFrame.__getitem__\u001b[0;34m(self, key)\u001b[0m\n\u001b[1;32m   4100\u001b[0m \u001b[38;5;28;01mif\u001b[39;00m \u001b[38;5;28mself\u001b[39m\u001b[38;5;241m.\u001b[39mcolumns\u001b[38;5;241m.\u001b[39mnlevels \u001b[38;5;241m>\u001b[39m \u001b[38;5;241m1\u001b[39m:\n\u001b[1;32m   4101\u001b[0m     \u001b[38;5;28;01mreturn\u001b[39;00m \u001b[38;5;28mself\u001b[39m\u001b[38;5;241m.\u001b[39m_getitem_multilevel(key)\n\u001b[0;32m-> 4102\u001b[0m indexer \u001b[38;5;241m=\u001b[39m \u001b[38;5;28mself\u001b[39m\u001b[38;5;241m.\u001b[39mcolumns\u001b[38;5;241m.\u001b[39mget_loc(key)\n\u001b[1;32m   4103\u001b[0m \u001b[38;5;28;01mif\u001b[39;00m is_integer(indexer):\n\u001b[1;32m   4104\u001b[0m     indexer \u001b[38;5;241m=\u001b[39m [indexer]\n",
      "File \u001b[0;32m/opt/anaconda3/lib/python3.12/site-packages/pandas/core/indexes/base.py:3812\u001b[0m, in \u001b[0;36mIndex.get_loc\u001b[0;34m(self, key)\u001b[0m\n\u001b[1;32m   3807\u001b[0m     \u001b[38;5;28;01mif\u001b[39;00m \u001b[38;5;28misinstance\u001b[39m(casted_key, \u001b[38;5;28mslice\u001b[39m) \u001b[38;5;129;01mor\u001b[39;00m (\n\u001b[1;32m   3808\u001b[0m         \u001b[38;5;28misinstance\u001b[39m(casted_key, abc\u001b[38;5;241m.\u001b[39mIterable)\n\u001b[1;32m   3809\u001b[0m         \u001b[38;5;129;01mand\u001b[39;00m \u001b[38;5;28many\u001b[39m(\u001b[38;5;28misinstance\u001b[39m(x, \u001b[38;5;28mslice\u001b[39m) \u001b[38;5;28;01mfor\u001b[39;00m x \u001b[38;5;129;01min\u001b[39;00m casted_key)\n\u001b[1;32m   3810\u001b[0m     ):\n\u001b[1;32m   3811\u001b[0m         \u001b[38;5;28;01mraise\u001b[39;00m InvalidIndexError(key)\n\u001b[0;32m-> 3812\u001b[0m     \u001b[38;5;28;01mraise\u001b[39;00m \u001b[38;5;167;01mKeyError\u001b[39;00m(key) \u001b[38;5;28;01mfrom\u001b[39;00m \u001b[38;5;21;01merr\u001b[39;00m\n\u001b[1;32m   3813\u001b[0m \u001b[38;5;28;01mexcept\u001b[39;00m \u001b[38;5;167;01mTypeError\u001b[39;00m:\n\u001b[1;32m   3814\u001b[0m     \u001b[38;5;66;03m# If we have a listlike key, _check_indexing_error will raise\u001b[39;00m\n\u001b[1;32m   3815\u001b[0m     \u001b[38;5;66;03m#  InvalidIndexError. Otherwise we fall through and re-raise\u001b[39;00m\n\u001b[1;32m   3816\u001b[0m     \u001b[38;5;66;03m#  the TypeError.\u001b[39;00m\n\u001b[1;32m   3817\u001b[0m     \u001b[38;5;28mself\u001b[39m\u001b[38;5;241m.\u001b[39m_check_indexing_error(key)\n",
      "\u001b[0;31mKeyError\u001b[0m: 'CUD_Diagnosis'"
     ]
    }
   ],
   "source": [
    "import pandas as pd\n",
    "\n",
    "# 1️⃣ Reload Original Datasets\n",
    "df = pd.read_excel(\"thesis.xlsx\")  # Main dataset\n",
    "visits_df = pd.read_excel(\"no_of_visits.xlsx\")  # Visits dataset\n",
    "first_diag_df = pd.read_excel(\"first_diag.xlsx\")  # First diagnosis dataset\n",
    "\n",
    "# 2️⃣ Merge All Datasets on PATID\n",
    "merged_df = df.merge(visits_df, on=\"PATID\", how=\"left\")\n",
    "merged_df = merged_df.merge(first_diag_df, on=\"PATID\", how=\"left\")\n",
    "\n",
    "# 3️⃣ Restore Under-18 Patients (If Previously Removed)\n",
    "if \"AGE\" in merged_df.columns:\n",
    "    # If under-18 patients were removed, restore them by reloading & merging again\n",
    "    print(\"Restoring under-18 patients...\")\n",
    "else:\n",
    "    print(\"Under-18 patients were never removed.\")\n",
    "\n",
    "# 4️⃣ Remove Future Dates in FIRST_DIAGNOSIS_DATE\n",
    "merged_df[\"FIRST_DIAGNOSIS_DATE\"] = pd.to_datetime(merged_df[\"FIRST_DIAGNOSIS_DATE\"], errors=\"coerce\")\n",
    "merged_df = merged_df[merged_df[\"FIRST_DIAGNOSIS_DATE\"] <= pd.to_datetime(\"today\")]\n",
    "\n",
    "# 5️⃣ Remove Duplicate Rows & Ensure Unique PATID\n",
    "merged_df = merged_df.drop_duplicates()  # Remove duplicate rows\n",
    "merged_df = merged_df.sort_values(\"FIRST_DIAGNOSIS_DATE\").drop_duplicates(\"PATID\", keep=\"last\")  # Keep latest record per patient\n",
    "\n",
    "# 6️⃣ Handle Missing Values\n",
    "merged_df[\"TOTAL_VISITS\"].fillna(0, inplace=True)  # Fill missing visits with 0\n",
    "merged_df[\"FIRST_DIAGNOSIS\"].fillna(\"Unknown\", inplace=True)  # Fill missing first diagnoses\n",
    "\n",
    "# 7️⃣ Identify & Handle Outliers in TOTAL_VISITS\n",
    "visit_threshold = merged_df[\"TOTAL_VISITS\"].quantile(0.99)  # 99th percentile\n",
    "merged_df = merged_df[merged_df[\"TOTAL_VISITS\"] <= visit_threshold]  # Remove extreme outliers\n",
    "\n",
    "# 8️⃣ Final Data Check\n",
    "print(f\"Final dataset size: {merged_df.shape}\")\n",
    "print(\"\\nSummary Statistics:\")\n",
    "print(merged_df.describe())\n",
    "\n",
    "print(\"\\nUnique values in CUD_Diagnosis:\", merged_df[\"CUD_Diagnosis\"].unique())\n",
    "print(\"\\nUnique values in FIRST_DIAGNOSIS:\", merged_df[\"FIRST_DIAGNOSIS\"].unique()[:10])\n",
    "\n",
    "# 9️⃣ Confirm Under-18 Patients Are Present\n",
    "under_18_count = merged_df[merged_df[\"AGE\"] < 18].shape[0]\n",
    "print(f\"\\nNumber of under-18 patients in the final dataset: {under_18_count}\")\n",
    "\n",
    "# Display final dataset sample\n",
    "display(merged_df.head())\n"
   ]
  },
  {
   "cell_type": "code",
   "execution_count": 84,
   "id": "734a692c-569c-4e5d-89c9-adc8357a56ff",
   "metadata": {},
   "outputs": [
    {
     "ename": "KeyError",
     "evalue": "'CUD_Diagnosis'",
     "output_type": "error",
     "traceback": [
      "\u001b[0;31m---------------------------------------------------------------------------\u001b[0m",
      "\u001b[0;31mKeyError\u001b[0m                                  Traceback (most recent call last)",
      "File \u001b[0;32m/opt/anaconda3/lib/python3.12/site-packages/pandas/core/indexes/base.py:3805\u001b[0m, in \u001b[0;36mIndex.get_loc\u001b[0;34m(self, key)\u001b[0m\n\u001b[1;32m   3804\u001b[0m \u001b[38;5;28;01mtry\u001b[39;00m:\n\u001b[0;32m-> 3805\u001b[0m     \u001b[38;5;28;01mreturn\u001b[39;00m \u001b[38;5;28mself\u001b[39m\u001b[38;5;241m.\u001b[39m_engine\u001b[38;5;241m.\u001b[39mget_loc(casted_key)\n\u001b[1;32m   3806\u001b[0m \u001b[38;5;28;01mexcept\u001b[39;00m \u001b[38;5;167;01mKeyError\u001b[39;00m \u001b[38;5;28;01mas\u001b[39;00m err:\n",
      "File \u001b[0;32mindex.pyx:167\u001b[0m, in \u001b[0;36mpandas._libs.index.IndexEngine.get_loc\u001b[0;34m()\u001b[0m\n",
      "File \u001b[0;32mindex.pyx:196\u001b[0m, in \u001b[0;36mpandas._libs.index.IndexEngine.get_loc\u001b[0;34m()\u001b[0m\n",
      "File \u001b[0;32mpandas/_libs/hashtable_class_helper.pxi:7081\u001b[0m, in \u001b[0;36mpandas._libs.hashtable.PyObjectHashTable.get_item\u001b[0;34m()\u001b[0m\n",
      "File \u001b[0;32mpandas/_libs/hashtable_class_helper.pxi:7089\u001b[0m, in \u001b[0;36mpandas._libs.hashtable.PyObjectHashTable.get_item\u001b[0;34m()\u001b[0m\n",
      "\u001b[0;31mKeyError\u001b[0m: 'CUD_Diagnosis'",
      "\nThe above exception was the direct cause of the following exception:\n",
      "\u001b[0;31mKeyError\u001b[0m                                  Traceback (most recent call last)",
      "Cell \u001b[0;32mIn[84], line 7\u001b[0m\n\u001b[1;32m      4\u001b[0m plt\u001b[38;5;241m.\u001b[39mfigure(figsize\u001b[38;5;241m=\u001b[39m(\u001b[38;5;241m10\u001b[39m, \u001b[38;5;241m5\u001b[39m))\n\u001b[1;32m      6\u001b[0m \u001b[38;5;66;03m# Histogram for Age Distribution\u001b[39;00m\n\u001b[0;32m----> 7\u001b[0m sns\u001b[38;5;241m.\u001b[39mhistplot(merged_df[merged_df[\u001b[38;5;124m\"\u001b[39m\u001b[38;5;124mCUD_Diagnosis\u001b[39m\u001b[38;5;124m\"\u001b[39m] \u001b[38;5;241m==\u001b[39m \u001b[38;5;241m0\u001b[39m][\u001b[38;5;124m\"\u001b[39m\u001b[38;5;124mAGE\u001b[39m\u001b[38;5;124m\"\u001b[39m], bins\u001b[38;5;241m=\u001b[39m\u001b[38;5;241m30\u001b[39m, kde\u001b[38;5;241m=\u001b[39m\u001b[38;5;28;01mTrue\u001b[39;00m, color\u001b[38;5;241m=\u001b[39m\u001b[38;5;124m'\u001b[39m\u001b[38;5;124mblue\u001b[39m\u001b[38;5;124m'\u001b[39m, label\u001b[38;5;241m=\u001b[39m\u001b[38;5;124m\"\u001b[39m\u001b[38;5;124mNon-CUD (0)\u001b[39m\u001b[38;5;124m\"\u001b[39m, alpha\u001b[38;5;241m=\u001b[39m\u001b[38;5;241m0.6\u001b[39m)\n\u001b[1;32m      8\u001b[0m sns\u001b[38;5;241m.\u001b[39mhistplot(merged_df[merged_df[\u001b[38;5;124m\"\u001b[39m\u001b[38;5;124mCUD_Diagnosis\u001b[39m\u001b[38;5;124m\"\u001b[39m] \u001b[38;5;241m==\u001b[39m \u001b[38;5;241m1\u001b[39m][\u001b[38;5;124m\"\u001b[39m\u001b[38;5;124mAGE\u001b[39m\u001b[38;5;124m\"\u001b[39m], bins\u001b[38;5;241m=\u001b[39m\u001b[38;5;241m30\u001b[39m, kde\u001b[38;5;241m=\u001b[39m\u001b[38;5;28;01mTrue\u001b[39;00m, color\u001b[38;5;241m=\u001b[39m\u001b[38;5;124m'\u001b[39m\u001b[38;5;124mred\u001b[39m\u001b[38;5;124m'\u001b[39m, label\u001b[38;5;241m=\u001b[39m\u001b[38;5;124m\"\u001b[39m\u001b[38;5;124mCUD (1)\u001b[39m\u001b[38;5;124m\"\u001b[39m, alpha\u001b[38;5;241m=\u001b[39m\u001b[38;5;241m0.6\u001b[39m)\n\u001b[1;32m     10\u001b[0m \u001b[38;5;66;03m# Titles & Labels\u001b[39;00m\n",
      "File \u001b[0;32m/opt/anaconda3/lib/python3.12/site-packages/pandas/core/frame.py:4102\u001b[0m, in \u001b[0;36mDataFrame.__getitem__\u001b[0;34m(self, key)\u001b[0m\n\u001b[1;32m   4100\u001b[0m \u001b[38;5;28;01mif\u001b[39;00m \u001b[38;5;28mself\u001b[39m\u001b[38;5;241m.\u001b[39mcolumns\u001b[38;5;241m.\u001b[39mnlevels \u001b[38;5;241m>\u001b[39m \u001b[38;5;241m1\u001b[39m:\n\u001b[1;32m   4101\u001b[0m     \u001b[38;5;28;01mreturn\u001b[39;00m \u001b[38;5;28mself\u001b[39m\u001b[38;5;241m.\u001b[39m_getitem_multilevel(key)\n\u001b[0;32m-> 4102\u001b[0m indexer \u001b[38;5;241m=\u001b[39m \u001b[38;5;28mself\u001b[39m\u001b[38;5;241m.\u001b[39mcolumns\u001b[38;5;241m.\u001b[39mget_loc(key)\n\u001b[1;32m   4103\u001b[0m \u001b[38;5;28;01mif\u001b[39;00m is_integer(indexer):\n\u001b[1;32m   4104\u001b[0m     indexer \u001b[38;5;241m=\u001b[39m [indexer]\n",
      "File \u001b[0;32m/opt/anaconda3/lib/python3.12/site-packages/pandas/core/indexes/base.py:3812\u001b[0m, in \u001b[0;36mIndex.get_loc\u001b[0;34m(self, key)\u001b[0m\n\u001b[1;32m   3807\u001b[0m     \u001b[38;5;28;01mif\u001b[39;00m \u001b[38;5;28misinstance\u001b[39m(casted_key, \u001b[38;5;28mslice\u001b[39m) \u001b[38;5;129;01mor\u001b[39;00m (\n\u001b[1;32m   3808\u001b[0m         \u001b[38;5;28misinstance\u001b[39m(casted_key, abc\u001b[38;5;241m.\u001b[39mIterable)\n\u001b[1;32m   3809\u001b[0m         \u001b[38;5;129;01mand\u001b[39;00m \u001b[38;5;28many\u001b[39m(\u001b[38;5;28misinstance\u001b[39m(x, \u001b[38;5;28mslice\u001b[39m) \u001b[38;5;28;01mfor\u001b[39;00m x \u001b[38;5;129;01min\u001b[39;00m casted_key)\n\u001b[1;32m   3810\u001b[0m     ):\n\u001b[1;32m   3811\u001b[0m         \u001b[38;5;28;01mraise\u001b[39;00m InvalidIndexError(key)\n\u001b[0;32m-> 3812\u001b[0m     \u001b[38;5;28;01mraise\u001b[39;00m \u001b[38;5;167;01mKeyError\u001b[39;00m(key) \u001b[38;5;28;01mfrom\u001b[39;00m \u001b[38;5;21;01merr\u001b[39;00m\n\u001b[1;32m   3813\u001b[0m \u001b[38;5;28;01mexcept\u001b[39;00m \u001b[38;5;167;01mTypeError\u001b[39;00m:\n\u001b[1;32m   3814\u001b[0m     \u001b[38;5;66;03m# If we have a listlike key, _check_indexing_error will raise\u001b[39;00m\n\u001b[1;32m   3815\u001b[0m     \u001b[38;5;66;03m#  InvalidIndexError. Otherwise we fall through and re-raise\u001b[39;00m\n\u001b[1;32m   3816\u001b[0m     \u001b[38;5;66;03m#  the TypeError.\u001b[39;00m\n\u001b[1;32m   3817\u001b[0m     \u001b[38;5;28mself\u001b[39m\u001b[38;5;241m.\u001b[39m_check_indexing_error(key)\n",
      "\u001b[0;31mKeyError\u001b[0m: 'CUD_Diagnosis'"
     ]
    },
    {
     "data": {
      "text/plain": [
       "<Figure size 1000x500 with 0 Axes>"
      ]
     },
     "metadata": {},
     "output_type": "display_data"
    }
   ],
   "source": [
    "import matplotlib.pyplot as plt\n",
    "import seaborn as sns\n",
    "\n",
    "plt.figure(figsize=(10, 5))\n",
    "\n",
    "# Histogram for Age Distribution\n",
    "sns.histplot(merged_df[merged_df[\"CUD_Diagnosis\"] == 0][\"AGE\"], bins=30, kde=True, color='blue', label=\"Non-CUD (0)\", alpha=0.6)\n",
    "sns.histplot(merged_df[merged_df[\"CUD_Diagnosis\"] == 1][\"AGE\"], bins=30, kde=True, color='red', label=\"CUD (1)\", alpha=0.6)\n",
    "\n",
    "# Titles & Labels\n",
    "plt.title(\"Age Distribution: CUD vs. Non-CUD Patients\")\n",
    "plt.xlabel(\"Age\")\n",
    "plt.ylabel(\"Count\")\n",
    "plt.legend()\n",
    "plt.show()\n"
   ]
  },
  {
   "cell_type": "code",
   "execution_count": 86,
   "id": "ef1a5dc7-0eee-4722-b632-b56307dc4a67",
   "metadata": {},
   "outputs": [
    {
     "name": "stdout",
     "output_type": "stream",
     "text": [
      "Column names in merged_df: Index(['PATID', 'BIRTH_DATE', 'BIRTH_TIME', 'SEX', 'HISPANIC',\n",
      "       'MARITAL_STATUS', 'PREFERRED_LANGUAGE', 'DIAGNOSIS_x', 'AGE',\n",
      "       'DIAGNOSIS_y', 'TOTAL_VISITS', 'FIRST_DIAGNOSIS',\n",
      "       'FIRST_DIAGNOSIS_DATE'],\n",
      "      dtype='object')\n"
     ]
    }
   ],
   "source": [
    "print(\"Column names in merged_df:\", merged_df.columns)\n",
    "\n"
   ]
  },
  {
   "cell_type": "code",
   "execution_count": 88,
   "id": "035d5b8f-6489-4335-bee4-a6e1bb9f03a6",
   "metadata": {},
   "outputs": [
    {
     "name": "stdout",
     "output_type": "stream",
     "text": [
      "\n",
      "Unique values in CUD_Diagnosis: [0 1]\n"
     ]
    }
   ],
   "source": [
    "# Choose the correct diagnosis column (Assume DIAGNOSIS_x is the correct one)\n",
    "merged_df[\"CUD_Diagnosis\"] = merged_df[\"DIAGNOSIS_x\"].apply(lambda x: 1 if \"CUD\" in str(x) else 0)\n",
    "\n",
    "# Confirm creation\n",
    "print(\"\\nUnique values in CUD_Diagnosis:\", merged_df[\"CUD_Diagnosis\"].unique())\n"
   ]
  },
  {
   "cell_type": "code",
   "execution_count": 90,
   "id": "064dccdd-40fb-42ef-b7b3-4d3efea06d80",
   "metadata": {},
   "outputs": [
    {
     "data": {
      "image/png": "[encoded data removed]",
      "text/plain": [
       "<Figure size 1000x500 with 1 Axes>"
      ]
     },
     "metadata": {},
     "output_type": "display_data"
    }
   ],
   "source": [
    "import matplotlib.pyplot as plt\n",
    "import seaborn as sns\n",
    "\n",
    "plt.figure(figsize=(10, 5))\n",
    "\n",
    "# Ensure columns exist before plotting\n",
    "if \"CUD_Diagnosis\" in merged_df.columns and \"AGE\" in merged_df.columns:\n",
    "    sns.histplot(merged_df[merged_df[\"CUD_Diagnosis\"] == 0][\"AGE\"], bins=30, kde=True, color='blue', label=\"Non-CUD (0)\", alpha=0.6)\n",
    "    sns.histplot(merged_df[merged_df[\"CUD_Diagnosis\"] == 1][\"AGE\"], bins=30, kde=True, color='red', label=\"CUD (1)\", alpha=0.6)\n",
    "\n",
    "    # Titles & Labels\n",
    "    plt.title(\"Age Distribution: CUD vs. Non-CUD Patients\")\n",
    "    plt.xlabel(\"Age\")\n",
    "    plt.ylabel(\"Count\")\n",
    "    plt.legend()\n",
    "    plt.show()\n",
    "else:\n",
    "    print(\"Error: One or both columns ('CUD_Diagnosis', 'AGE') are missing in merged_df\")\n"
   ]
  },
  {
   "cell_type": "code",
   "execution_count": 92,
   "id": "e827cb43-0367-453d-a17a-259e348af33b",
   "metadata": {},
   "outputs": [
    {
     "name": "stdout",
     "output_type": "stream",
     "text": [
      "Updated dataset size after removing underage patients: (137136, 14)\n"
     ]
    }
   ],
   "source": [
    "# Remove patients younger than 18\n",
    "merged_df = merged_df[merged_df[\"AGE\"] >= 18]\n",
    "\n",
    "# Confirm fix\n",
    "print(f\"Updated dataset size after removing underage patients: {merged_df.shape}\")\n"
   ]
  },
  {
   "cell_type": "code",
   "execution_count": 94,
   "id": "a3357405-02a5-4b54-ba91-5616754a6011",
   "metadata": {},
   "outputs": [
    {
     "data": {
      "image/png": "[encoded data removed]",
      "text/plain": [
       "<Figure size 1000x500 with 1 Axes>"
      ]
     },
     "metadata": {},
     "output_type": "display_data"
    }
   ],
   "source": [
    "import matplotlib.pyplot as plt\n",
    "import seaborn as sns\n",
    "\n",
    "plt.figure(figsize=(10, 5))\n",
    "\n",
    "# Ensure columns exist before plotting\n",
    "if \"CUD_Diagnosis\" in merged_df.columns and \"AGE\" in merged_df.columns:\n",
    "    sns.histplot(merged_df[merged_df[\"CUD_Diagnosis\"] == 0][\"AGE\"], bins=30, kde=True, color='blue', label=\"Non-CUD (0)\", alpha=0.6)\n",
    "    sns.histplot(merged_df[merged_df[\"CUD_Diagnosis\"] == 1][\"AGE\"], bins=30, kde=True, color='red', label=\"CUD (1)\", alpha=0.6)\n",
    "\n",
    "    # Titles & Labels\n",
    "    plt.title(\"Age Distribution: CUD vs. Non-CUD Patients\")\n",
    "    plt.xlabel(\"Age\")\n",
    "    plt.ylabel(\"Count\")\n",
    "    plt.legend()\n",
    "    plt.show()\n",
    "else:\n",
    "    print(\"Error: One or both columns ('CUD_Diagnosis', 'AGE') are missing in merged_df\")\n"
   ]
  },
  {
   "cell_type": "code",
   "execution_count": 96,
   "id": "c7661e01-f425-4a74-b0ab-124c5d4b0b4c",
   "metadata": {},
   "outputs": [
    {
     "ename": "ValueError",
     "evalue": "Could not interpret value `Schizophrenia` for `x`. An entry with this name does not appear in `data`.",
     "output_type": "error",
     "traceback": [
      "\u001b[0;31m---------------------------------------------------------------------------\u001b[0m",
      "\u001b[0;31mValueError\u001b[0m                                Traceback (most recent call last)",
      "Cell \u001b[0;32mIn[96], line 5\u001b[0m\n\u001b[1;32m      2\u001b[0m \u001b[38;5;28;01mimport\u001b[39;00m \u001b[38;5;21;01mmatplotlib\u001b[39;00m\u001b[38;5;21;01m.\u001b[39;00m\u001b[38;5;21;01mpyplot\u001b[39;00m \u001b[38;5;28;01mas\u001b[39;00m \u001b[38;5;21;01mplt\u001b[39;00m\n\u001b[1;32m      4\u001b[0m plt\u001b[38;5;241m.\u001b[39mfigure(figsize\u001b[38;5;241m=\u001b[39m(\u001b[38;5;241m8\u001b[39m,\u001b[38;5;241m5\u001b[39m))\n\u001b[0;32m----> 5\u001b[0m sns\u001b[38;5;241m.\u001b[39mboxplot(x\u001b[38;5;241m=\u001b[39m\u001b[38;5;124m\"\u001b[39m\u001b[38;5;124mSchizophrenia\u001b[39m\u001b[38;5;124m\"\u001b[39m, y\u001b[38;5;241m=\u001b[39m\u001b[38;5;124m\"\u001b[39m\u001b[38;5;124mTOTAL_VISITS\u001b[39m\u001b[38;5;124m\"\u001b[39m, data\u001b[38;5;241m=\u001b[39mmerged_df)\n\u001b[1;32m      6\u001b[0m plt\u001b[38;5;241m.\u001b[39mtitle(\u001b[38;5;124m\"\u001b[39m\u001b[38;5;124mHealthcare Visits: Schizophrenia vs. Non-Schizophrenia Patients\u001b[39m\u001b[38;5;124m\"\u001b[39m)\n\u001b[1;32m      7\u001b[0m plt\u001b[38;5;241m.\u001b[39mxlabel(\u001b[38;5;124m\"\u001b[39m\u001b[38;5;124mSchizophrenia Diagnosis (0 = No, 1 = Yes)\u001b[39m\u001b[38;5;124m\"\u001b[39m)\n",
      "File \u001b[0;32m/opt/anaconda3/lib/python3.12/site-packages/seaborn/categorical.py:1597\u001b[0m, in \u001b[0;36mboxplot\u001b[0;34m(data, x, y, hue, order, hue_order, orient, color, palette, saturation, fill, dodge, width, gap, whis, linecolor, linewidth, fliersize, hue_norm, native_scale, log_scale, formatter, legend, ax, **kwargs)\u001b[0m\n\u001b[1;32m   1589\u001b[0m \u001b[38;5;28;01mdef\u001b[39;00m \u001b[38;5;21mboxplot\u001b[39m(\n\u001b[1;32m   1590\u001b[0m     data\u001b[38;5;241m=\u001b[39m\u001b[38;5;28;01mNone\u001b[39;00m, \u001b[38;5;241m*\u001b[39m, x\u001b[38;5;241m=\u001b[39m\u001b[38;5;28;01mNone\u001b[39;00m, y\u001b[38;5;241m=\u001b[39m\u001b[38;5;28;01mNone\u001b[39;00m, hue\u001b[38;5;241m=\u001b[39m\u001b[38;5;28;01mNone\u001b[39;00m, order\u001b[38;5;241m=\u001b[39m\u001b[38;5;28;01mNone\u001b[39;00m, hue_order\u001b[38;5;241m=\u001b[39m\u001b[38;5;28;01mNone\u001b[39;00m,\n\u001b[1;32m   1591\u001b[0m     orient\u001b[38;5;241m=\u001b[39m\u001b[38;5;28;01mNone\u001b[39;00m, color\u001b[38;5;241m=\u001b[39m\u001b[38;5;28;01mNone\u001b[39;00m, palette\u001b[38;5;241m=\u001b[39m\u001b[38;5;28;01mNone\u001b[39;00m, saturation\u001b[38;5;241m=\u001b[39m\u001b[38;5;241m.75\u001b[39m, fill\u001b[38;5;241m=\u001b[39m\u001b[38;5;28;01mTrue\u001b[39;00m,\n\u001b[0;32m   (...)\u001b[0m\n\u001b[1;32m   1594\u001b[0m     legend\u001b[38;5;241m=\u001b[39m\u001b[38;5;124m\"\u001b[39m\u001b[38;5;124mauto\u001b[39m\u001b[38;5;124m\"\u001b[39m, ax\u001b[38;5;241m=\u001b[39m\u001b[38;5;28;01mNone\u001b[39;00m, \u001b[38;5;241m*\u001b[39m\u001b[38;5;241m*\u001b[39mkwargs\n\u001b[1;32m   1595\u001b[0m ):\n\u001b[0;32m-> 1597\u001b[0m     p \u001b[38;5;241m=\u001b[39m _CategoricalPlotter(\n\u001b[1;32m   1598\u001b[0m         data\u001b[38;5;241m=\u001b[39mdata,\n\u001b[1;32m   1599\u001b[0m         variables\u001b[38;5;241m=\u001b[39m\u001b[38;5;28mdict\u001b[39m(x\u001b[38;5;241m=\u001b[39mx, y\u001b[38;5;241m=\u001b[39my, hue\u001b[38;5;241m=\u001b[39mhue),\n\u001b[1;32m   1600\u001b[0m         order\u001b[38;5;241m=\u001b[39morder,\n\u001b[1;32m   1601\u001b[0m         orient\u001b[38;5;241m=\u001b[39morient,\n\u001b[1;32m   1602\u001b[0m         color\u001b[38;5;241m=\u001b[39mcolor,\n\u001b[1;32m   1603\u001b[0m         legend\u001b[38;5;241m=\u001b[39mlegend,\n\u001b[1;32m   1604\u001b[0m     )\n\u001b[1;32m   1606\u001b[0m     \u001b[38;5;28;01mif\u001b[39;00m ax \u001b[38;5;129;01mis\u001b[39;00m \u001b[38;5;28;01mNone\u001b[39;00m:\n\u001b[1;32m   1607\u001b[0m         ax \u001b[38;5;241m=\u001b[39m plt\u001b[38;5;241m.\u001b[39mgca()\n",
      "File \u001b[0;32m/opt/anaconda3/lib/python3.12/site-packages/seaborn/categorical.py:67\u001b[0m, in \u001b[0;36m_CategoricalPlotter.__init__\u001b[0;34m(self, data, variables, order, orient, require_numeric, color, legend)\u001b[0m\n\u001b[1;32m     56\u001b[0m \u001b[38;5;28;01mdef\u001b[39;00m \u001b[38;5;21m__init__\u001b[39m(\n\u001b[1;32m     57\u001b[0m     \u001b[38;5;28mself\u001b[39m,\n\u001b[1;32m     58\u001b[0m     data\u001b[38;5;241m=\u001b[39m\u001b[38;5;28;01mNone\u001b[39;00m,\n\u001b[0;32m   (...)\u001b[0m\n\u001b[1;32m     64\u001b[0m     legend\u001b[38;5;241m=\u001b[39m\u001b[38;5;124m\"\u001b[39m\u001b[38;5;124mauto\u001b[39m\u001b[38;5;124m\"\u001b[39m,\n\u001b[1;32m     65\u001b[0m ):\n\u001b[0;32m---> 67\u001b[0m     \u001b[38;5;28msuper\u001b[39m()\u001b[38;5;241m.\u001b[39m\u001b[38;5;21m__init__\u001b[39m(data\u001b[38;5;241m=\u001b[39mdata, variables\u001b[38;5;241m=\u001b[39mvariables)\n\u001b[1;32m     69\u001b[0m     \u001b[38;5;66;03m# This method takes care of some bookkeeping that is necessary because the\u001b[39;00m\n\u001b[1;32m     70\u001b[0m     \u001b[38;5;66;03m# original categorical plots (prior to the 2021 refactor) had some rules that\u001b[39;00m\n\u001b[1;32m     71\u001b[0m     \u001b[38;5;66;03m# don't fit exactly into VectorPlotter logic. It may be wise to have a second\u001b[39;00m\n\u001b[0;32m   (...)\u001b[0m\n\u001b[1;32m     76\u001b[0m     \u001b[38;5;66;03m# default VectorPlotter rules. If we do decide to make orient part of the\u001b[39;00m\n\u001b[1;32m     77\u001b[0m     \u001b[38;5;66;03m# _base variable assignment, we'll want to figure out how to express that.\u001b[39;00m\n\u001b[1;32m     78\u001b[0m     \u001b[38;5;28;01mif\u001b[39;00m \u001b[38;5;28mself\u001b[39m\u001b[38;5;241m.\u001b[39minput_format \u001b[38;5;241m==\u001b[39m \u001b[38;5;124m\"\u001b[39m\u001b[38;5;124mwide\u001b[39m\u001b[38;5;124m\"\u001b[39m \u001b[38;5;129;01mand\u001b[39;00m orient \u001b[38;5;129;01min\u001b[39;00m [\u001b[38;5;124m\"\u001b[39m\u001b[38;5;124mh\u001b[39m\u001b[38;5;124m\"\u001b[39m, \u001b[38;5;124m\"\u001b[39m\u001b[38;5;124my\u001b[39m\u001b[38;5;124m\"\u001b[39m]:\n",
      "File \u001b[0;32m/opt/anaconda3/lib/python3.12/site-packages/seaborn/_base.py:634\u001b[0m, in \u001b[0;36mVectorPlotter.__init__\u001b[0;34m(self, data, variables)\u001b[0m\n\u001b[1;32m    629\u001b[0m \u001b[38;5;66;03m# var_ordered is relevant only for categorical axis variables, and may\u001b[39;00m\n\u001b[1;32m    630\u001b[0m \u001b[38;5;66;03m# be better handled by an internal axis information object that tracks\u001b[39;00m\n\u001b[1;32m    631\u001b[0m \u001b[38;5;66;03m# such information and is set up by the scale_* methods. The analogous\u001b[39;00m\n\u001b[1;32m    632\u001b[0m \u001b[38;5;66;03m# information for numeric axes would be information about log scales.\u001b[39;00m\n\u001b[1;32m    633\u001b[0m \u001b[38;5;28mself\u001b[39m\u001b[38;5;241m.\u001b[39m_var_ordered \u001b[38;5;241m=\u001b[39m {\u001b[38;5;124m\"\u001b[39m\u001b[38;5;124mx\u001b[39m\u001b[38;5;124m\"\u001b[39m: \u001b[38;5;28;01mFalse\u001b[39;00m, \u001b[38;5;124m\"\u001b[39m\u001b[38;5;124my\u001b[39m\u001b[38;5;124m\"\u001b[39m: \u001b[38;5;28;01mFalse\u001b[39;00m}  \u001b[38;5;66;03m# alt., used DefaultDict\u001b[39;00m\n\u001b[0;32m--> 634\u001b[0m \u001b[38;5;28mself\u001b[39m\u001b[38;5;241m.\u001b[39massign_variables(data, variables)\n\u001b[1;32m    636\u001b[0m \u001b[38;5;66;03m# TODO Lots of tests assume that these are called to initialize the\u001b[39;00m\n\u001b[1;32m    637\u001b[0m \u001b[38;5;66;03m# mappings to default values on class initialization. I'd prefer to\u001b[39;00m\n\u001b[1;32m    638\u001b[0m \u001b[38;5;66;03m# move away from that and only have a mapping when explicitly called.\u001b[39;00m\n\u001b[1;32m    639\u001b[0m \u001b[38;5;28;01mfor\u001b[39;00m var \u001b[38;5;129;01min\u001b[39;00m [\u001b[38;5;124m\"\u001b[39m\u001b[38;5;124mhue\u001b[39m\u001b[38;5;124m\"\u001b[39m, \u001b[38;5;124m\"\u001b[39m\u001b[38;5;124msize\u001b[39m\u001b[38;5;124m\"\u001b[39m, \u001b[38;5;124m\"\u001b[39m\u001b[38;5;124mstyle\u001b[39m\u001b[38;5;124m\"\u001b[39m]:\n",
      "File \u001b[0;32m/opt/anaconda3/lib/python3.12/site-packages/seaborn/_base.py:679\u001b[0m, in \u001b[0;36mVectorPlotter.assign_variables\u001b[0;34m(self, data, variables)\u001b[0m\n\u001b[1;32m    674\u001b[0m \u001b[38;5;28;01melse\u001b[39;00m:\n\u001b[1;32m    675\u001b[0m     \u001b[38;5;66;03m# When dealing with long-form input, use the newer PlotData\u001b[39;00m\n\u001b[1;32m    676\u001b[0m     \u001b[38;5;66;03m# object (internal but introduced for the objects interface)\u001b[39;00m\n\u001b[1;32m    677\u001b[0m     \u001b[38;5;66;03m# to centralize / standardize data consumption logic.\u001b[39;00m\n\u001b[1;32m    678\u001b[0m     \u001b[38;5;28mself\u001b[39m\u001b[38;5;241m.\u001b[39minput_format \u001b[38;5;241m=\u001b[39m \u001b[38;5;124m\"\u001b[39m\u001b[38;5;124mlong\u001b[39m\u001b[38;5;124m\"\u001b[39m\n\u001b[0;32m--> 679\u001b[0m     plot_data \u001b[38;5;241m=\u001b[39m PlotData(data, variables)\n\u001b[1;32m    680\u001b[0m     frame \u001b[38;5;241m=\u001b[39m plot_data\u001b[38;5;241m.\u001b[39mframe\n\u001b[1;32m    681\u001b[0m     names \u001b[38;5;241m=\u001b[39m plot_data\u001b[38;5;241m.\u001b[39mnames\n",
      "File \u001b[0;32m/opt/anaconda3/lib/python3.12/site-packages/seaborn/_core/data.py:58\u001b[0m, in \u001b[0;36mPlotData.__init__\u001b[0;34m(self, data, variables)\u001b[0m\n\u001b[1;32m     51\u001b[0m \u001b[38;5;28;01mdef\u001b[39;00m \u001b[38;5;21m__init__\u001b[39m(\n\u001b[1;32m     52\u001b[0m     \u001b[38;5;28mself\u001b[39m,\n\u001b[1;32m     53\u001b[0m     data: DataSource,\n\u001b[1;32m     54\u001b[0m     variables: \u001b[38;5;28mdict\u001b[39m[\u001b[38;5;28mstr\u001b[39m, VariableSpec],\n\u001b[1;32m     55\u001b[0m ):\n\u001b[1;32m     57\u001b[0m     data \u001b[38;5;241m=\u001b[39m handle_data_source(data)\n\u001b[0;32m---> 58\u001b[0m     frame, names, ids \u001b[38;5;241m=\u001b[39m \u001b[38;5;28mself\u001b[39m\u001b[38;5;241m.\u001b[39m_assign_variables(data, variables)\n\u001b[1;32m     60\u001b[0m     \u001b[38;5;28mself\u001b[39m\u001b[38;5;241m.\u001b[39mframe \u001b[38;5;241m=\u001b[39m frame\n\u001b[1;32m     61\u001b[0m     \u001b[38;5;28mself\u001b[39m\u001b[38;5;241m.\u001b[39mnames \u001b[38;5;241m=\u001b[39m names\n",
      "File \u001b[0;32m/opt/anaconda3/lib/python3.12/site-packages/seaborn/_core/data.py:232\u001b[0m, in \u001b[0;36mPlotData._assign_variables\u001b[0;34m(self, data, variables)\u001b[0m\n\u001b[1;32m    230\u001b[0m     \u001b[38;5;28;01melse\u001b[39;00m:\n\u001b[1;32m    231\u001b[0m         err \u001b[38;5;241m+\u001b[39m\u001b[38;5;241m=\u001b[39m \u001b[38;5;124m\"\u001b[39m\u001b[38;5;124mAn entry with this name does not appear in `data`.\u001b[39m\u001b[38;5;124m\"\u001b[39m\n\u001b[0;32m--> 232\u001b[0m     \u001b[38;5;28;01mraise\u001b[39;00m \u001b[38;5;167;01mValueError\u001b[39;00m(err)\n\u001b[1;32m    234\u001b[0m \u001b[38;5;28;01melse\u001b[39;00m:\n\u001b[1;32m    235\u001b[0m \n\u001b[1;32m    236\u001b[0m     \u001b[38;5;66;03m# Otherwise, assume the value somehow represents data\u001b[39;00m\n\u001b[1;32m    237\u001b[0m \n\u001b[1;32m    238\u001b[0m     \u001b[38;5;66;03m# Ignore empty data structures\u001b[39;00m\n\u001b[1;32m    239\u001b[0m     \u001b[38;5;28;01mif\u001b[39;00m \u001b[38;5;28misinstance\u001b[39m(val, Sized) \u001b[38;5;129;01mand\u001b[39;00m \u001b[38;5;28mlen\u001b[39m(val) \u001b[38;5;241m==\u001b[39m \u001b[38;5;241m0\u001b[39m:\n",
      "\u001b[0;31mValueError\u001b[0m: Could not interpret value `Schizophrenia` for `x`. An entry with this name does not appear in `data`."
     ]
    },
    {
     "data": {
      "text/plain": [
       "<Figure size 800x500 with 0 Axes>"
      ]
     },
     "metadata": {},
     "output_type": "display_data"
    }
   ],
   "source": [
    "import seaborn as sns\n",
    "import matplotlib.pyplot as plt\n",
    "\n",
    "plt.figure(figsize=(8,5))\n",
    "sns.boxplot(x=\"Schizophrenia\", y=\"TOTAL_VISITS\", data=merged_df)\n",
    "plt.title(\"Healthcare Visits: Schizophrenia vs. Non-Schizophrenia Patients\")\n",
    "plt.xlabel(\"Schizophrenia Diagnosis (0 = No, 1 = Yes)\")\n",
    "plt.ylabel(\"Total Healthcare Visits\")\n",
    "plt.show()\n",
    "\n",
    "# Compare mean TOTAL_VISITS\n",
    "schizo_visits = merged_df.groupby(\"Schizophrenia\")[\"TOTAL_VISITS\"].mean()\n",
    "print(\"\\nAverage Healthcare Visits for Schizophrenia vs. Non-Schizophrenia Patients:\")\n",
    "print(schizo_visits)\n"
   ]
  },
  {
   "cell_type": "code",
   "execution_count": 98,
   "id": "f079d206-60c4-4417-95dc-173a31bdcb05",
   "metadata": {},
   "outputs": [
    {
     "name": "stdout",
     "output_type": "stream",
     "text": [
      "Columns in merged_df:\n",
      "Index(['PATID', 'BIRTH_DATE', 'BIRTH_TIME', 'SEX', 'HISPANIC',\n",
      "       'MARITAL_STATUS', 'PREFERRED_LANGUAGE', 'DIAGNOSIS_x', 'AGE',\n",
      "       'DIAGNOSIS_y', 'TOTAL_VISITS', 'FIRST_DIAGNOSIS',\n",
      "       'FIRST_DIAGNOSIS_DATE', 'CUD_Diagnosis'],\n",
      "      dtype='object')\n"
     ]
    }
   ],
   "source": [
    "# Print all column names to check if \"Schizophrenia\" exists\n",
    "print(\"Columns in merged_df:\")\n",
    "print(merged_df.columns)\n"
   ]
  },
  {
   "cell_type": "code",
   "execution_count": 100,
   "id": "23dd0a0a-3f2a-4126-95c6-53f148ecf503",
   "metadata": {},
   "outputs": [
    {
     "name": "stderr",
     "output_type": "stream",
     "text": [
      "/var/folders/cg/f8fbrhz54j31_b4ng4zd8zkh0000gn/T/ipykernel_81887/1554925926.py:6: SettingWithCopyWarning: \n",
      "A value is trying to be set on a copy of a slice from a DataFrame.\n",
      "Try using .loc[row_indexer,col_indexer] = value instead\n",
      "\n",
      "See the caveats in the documentation: https://pandas.pydata.org/pandas-docs/stable/user_guide/indexing.html#returning-a-view-versus-a-copy\n",
      "  merged_df[disease] = merged_df[\"DIAGNOSIS_x\"].apply(lambda x: 1 if pd.notna(x) and disease in x else 0)\n",
      "/var/folders/cg/f8fbrhz54j31_b4ng4zd8zkh0000gn/T/ipykernel_81887/1554925926.py:6: SettingWithCopyWarning: \n",
      "A value is trying to be set on a copy of a slice from a DataFrame.\n",
      "Try using .loc[row_indexer,col_indexer] = value instead\n",
      "\n",
      "See the caveats in the documentation: https://pandas.pydata.org/pandas-docs/stable/user_guide/indexing.html#returning-a-view-versus-a-copy\n",
      "  merged_df[disease] = merged_df[\"DIAGNOSIS_x\"].apply(lambda x: 1 if pd.notna(x) and disease in x else 0)\n",
      "/var/folders/cg/f8fbrhz54j31_b4ng4zd8zkh0000gn/T/ipykernel_81887/1554925926.py:6: SettingWithCopyWarning: \n",
      "A value is trying to be set on a copy of a slice from a DataFrame.\n",
      "Try using .loc[row_indexer,col_indexer] = value instead\n",
      "\n",
      "See the caveats in the documentation: https://pandas.pydata.org/pandas-docs/stable/user_guide/indexing.html#returning-a-view-versus-a-copy\n",
      "  merged_df[disease] = merged_df[\"DIAGNOSIS_x\"].apply(lambda x: 1 if pd.notna(x) and disease in x else 0)\n",
      "/var/folders/cg/f8fbrhz54j31_b4ng4zd8zkh0000gn/T/ipykernel_81887/1554925926.py:6: SettingWithCopyWarning: \n",
      "A value is trying to be set on a copy of a slice from a DataFrame.\n",
      "Try using .loc[row_indexer,col_indexer] = value instead\n",
      "\n",
      "See the caveats in the documentation: https://pandas.pydata.org/pandas-docs/stable/user_guide/indexing.html#returning-a-view-versus-a-copy\n",
      "  merged_df[disease] = merged_df[\"DIAGNOSIS_x\"].apply(lambda x: 1 if pd.notna(x) and disease in x else 0)\n"
     ]
    },
    {
     "data": {
      "text/html": [
       "<div>\n",
       "<style scoped>\n",
       "    .dataframe tbody tr th:only-of-type {\n",
       "        vertical-align: middle;\n",
       "    }\n",
       "\n",
       "    .dataframe tbody tr th {\n",
       "        vertical-align: top;\n",
       "    }\n",
       "\n",
       "    .dataframe thead th {\n",
       "        text-align: right;\n",
       "    }\n",
       "</style>\n",
       "<table border=\"1\" class=\"dataframe\">\n",
       "  <thead>\n",
       "    <tr style=\"text-align: right;\">\n",
       "      <th></th>\n",
       "      <th>PATID</th>\n",
       "      <th>BIRTH_DATE</th>\n",
       "      <th>BIRTH_TIME</th>\n",
       "      <th>SEX</th>\n",
       "      <th>HISPANIC</th>\n",
       "      <th>MARITAL_STATUS</th>\n",
       "      <th>PREFERRED_LANGUAGE</th>\n",
       "      <th>DIAGNOSIS_x</th>\n",
       "      <th>AGE</th>\n",
       "      <th>DIAGNOSIS_y</th>\n",
       "      <th>TOTAL_VISITS</th>\n",
       "      <th>FIRST_DIAGNOSIS</th>\n",
       "      <th>FIRST_DIAGNOSIS_DATE</th>\n",
       "      <th>CUD_Diagnosis</th>\n",
       "      <th>CUD</th>\n",
       "      <th>Depression</th>\n",
       "      <th>Anxiety</th>\n",
       "      <th>Schizophrenia</th>\n",
       "    </tr>\n",
       "  </thead>\n",
       "  <tbody>\n",
       "    <tr>\n",
       "      <th>141134</th>\n",
       "      <td>2171302</td>\n",
       "      <td>1983-07-14 05:00:00</td>\n",
       "      <td>05:00:00</td>\n",
       "      <td>F</td>\n",
       "      <td>N</td>\n",
       "      <td>Single</td>\n",
       "      <td>ENG</td>\n",
       "      <td>Anxiety</td>\n",
       "      <td>41</td>\n",
       "      <td>Anxiety</td>\n",
       "      <td>21</td>\n",
       "      <td>Anxiety</td>\n",
       "      <td>2001-03-20</td>\n",
       "      <td>0</td>\n",
       "      <td>0</td>\n",
       "      <td>0</td>\n",
       "      <td>1</td>\n",
       "      <td>0</td>\n",
       "    </tr>\n",
       "    <tr>\n",
       "      <th>128043</th>\n",
       "      <td>2768431</td>\n",
       "      <td>2005-05-26 16:00:00</td>\n",
       "      <td>16:00:00</td>\n",
       "      <td>F</td>\n",
       "      <td>N</td>\n",
       "      <td>Single</td>\n",
       "      <td>ENG</td>\n",
       "      <td>Anxiety</td>\n",
       "      <td>19</td>\n",
       "      <td>Anxiety</td>\n",
       "      <td>60</td>\n",
       "      <td>Anxiety</td>\n",
       "      <td>2005-05-26</td>\n",
       "      <td>0</td>\n",
       "      <td>0</td>\n",
       "      <td>0</td>\n",
       "      <td>1</td>\n",
       "      <td>0</td>\n",
       "    </tr>\n",
       "    <tr>\n",
       "      <th>26786</th>\n",
       "      <td>265333</td>\n",
       "      <td>1941-01-26 05:00:00</td>\n",
       "      <td>05:00:00</td>\n",
       "      <td>M</td>\n",
       "      <td>N</td>\n",
       "      <td>Single</td>\n",
       "      <td>ENG</td>\n",
       "      <td>Anxiety</td>\n",
       "      <td>84</td>\n",
       "      <td>Anxiety</td>\n",
       "      <td>107</td>\n",
       "      <td>Anxiety</td>\n",
       "      <td>2005-09-02</td>\n",
       "      <td>0</td>\n",
       "      <td>0</td>\n",
       "      <td>0</td>\n",
       "      <td>1</td>\n",
       "      <td>0</td>\n",
       "    </tr>\n",
       "    <tr>\n",
       "      <th>44399</th>\n",
       "      <td>2717674</td>\n",
       "      <td>1983-12-19 06:00:00</td>\n",
       "      <td>06:00:00</td>\n",
       "      <td>F</td>\n",
       "      <td>N</td>\n",
       "      <td>Married</td>\n",
       "      <td>ENG</td>\n",
       "      <td>Depression, Anxiety</td>\n",
       "      <td>41</td>\n",
       "      <td>Depression, Anxiety</td>\n",
       "      <td>233</td>\n",
       "      <td>Depression</td>\n",
       "      <td>2006-02-01</td>\n",
       "      <td>0</td>\n",
       "      <td>0</td>\n",
       "      <td>1</td>\n",
       "      <td>1</td>\n",
       "      <td>0</td>\n",
       "    </tr>\n",
       "    <tr>\n",
       "      <th>64889</th>\n",
       "      <td>2386275</td>\n",
       "      <td>2007-01-17 20:37:00</td>\n",
       "      <td>20:37:00</td>\n",
       "      <td>M</td>\n",
       "      <td>N</td>\n",
       "      <td>Single</td>\n",
       "      <td>ENG</td>\n",
       "      <td>Anxiety</td>\n",
       "      <td>18</td>\n",
       "      <td>Anxiety</td>\n",
       "      <td>77</td>\n",
       "      <td>Anxiety</td>\n",
       "      <td>2007-01-17</td>\n",
       "      <td>0</td>\n",
       "      <td>0</td>\n",
       "      <td>0</td>\n",
       "      <td>1</td>\n",
       "      <td>0</td>\n",
       "    </tr>\n",
       "  </tbody>\n",
       "</table>\n",
       "</div>"
      ],
      "text/plain": [
       "          PATID          BIRTH_DATE BIRTH_TIME SEX HISPANIC MARITAL_STATUS  \\\n",
       "141134  2171302 1983-07-14 05:00:00   05:00:00   F        N         Single   \n",
       "128043  2768431 2005-05-26 16:00:00   16:00:00   F        N         Single   \n",
       "26786    265333 1941-01-26 05:00:00   05:00:00   M        N         Single   \n",
       "44399   2717674 1983-12-19 06:00:00   06:00:00   F        N        Married   \n",
       "64889   2386275 2007-01-17 20:37:00   20:37:00   M        N         Single   \n",
       "\n",
       "       PREFERRED_LANGUAGE          DIAGNOSIS_x  AGE          DIAGNOSIS_y  \\\n",
       "141134                ENG              Anxiety   41              Anxiety   \n",
       "128043                ENG              Anxiety   19              Anxiety   \n",
       "26786                 ENG              Anxiety   84              Anxiety   \n",
       "44399                 ENG  Depression, Anxiety   41  Depression, Anxiety   \n",
       "64889                 ENG              Anxiety   18              Anxiety   \n",
       "\n",
       "        TOTAL_VISITS FIRST_DIAGNOSIS FIRST_DIAGNOSIS_DATE  CUD_Diagnosis  CUD  \\\n",
       "141134            21         Anxiety           2001-03-20              0    0   \n",
       "128043            60         Anxiety           2005-05-26              0    0   \n",
       "26786            107         Anxiety           2005-09-02              0    0   \n",
       "44399            233      Depression           2006-02-01              0    0   \n",
       "64889             77         Anxiety           2007-01-17              0    0   \n",
       "\n",
       "        Depression  Anxiety  Schizophrenia  \n",
       "141134           0        1              0  \n",
       "128043           0        1              0  \n",
       "26786            0        1              0  \n",
       "44399            1        1              0  \n",
       "64889            0        1              0  "
      ]
     },
     "metadata": {},
     "output_type": "display_data"
    }
   ],
   "source": [
    "# Define the diseases we want to extract\n",
    "diseases = [\"CUD\", \"Depression\", \"Anxiety\", \"Schizophrenia\"]\n",
    "\n",
    "# Create a binary column for each disease\n",
    "for disease in diseases:\n",
    "    merged_df[disease] = merged_df[\"DIAGNOSIS_x\"].apply(lambda x: 1 if pd.notna(x) and disease in x else 0)\n",
    "\n",
    "# Display the first few rows to confirm\n",
    "display(merged_df.head())\n"
   ]
  },
  {
   "cell_type": "code",
   "execution_count": 102,
   "id": "7644fb1a-5cb1-4d51-b8df-e1c7b32256f6",
   "metadata": {},
   "outputs": [
    {
     "name": "stdout",
     "output_type": "stream",
     "text": [
      "\n",
      "Unique values in CUD: [0 1]\n",
      "\n",
      "Unique values in Depression: [0 1]\n",
      "\n",
      "Unique values in Anxiety: [1 0]\n",
      "\n",
      "Unique values in Schizophrenia: [0 1]\n"
     ]
    }
   ],
   "source": [
    "# Check unique values in each disease column\n",
    "for disease in diseases:\n",
    "    print(f\"\\nUnique values in {disease}: {merged_df[disease].unique()}\")\n"
   ]
  },
  {
   "cell_type": "code",
   "execution_count": 104,
   "id": "a21435c4-8793-45e0-b8a9-6c80a32954e7",
   "metadata": {},
   "outputs": [
    {
     "name": "stdout",
     "output_type": "stream",
     "text": [
      "\n",
      "Disease Prevalence in the Dataset:\n",
      "Anxiety          106213\n",
      "Depression        83063\n",
      "CUD               19408\n",
      "Schizophrenia      4639\n",
      "dtype: int64\n"
     ]
    }
   ],
   "source": [
    "# Count the number of patients diagnosed with each disease\n",
    "disease_counts = merged_df[diseases].sum().sort_values(ascending=False)\n",
    "\n",
    "print(\"\\nDisease Prevalence in the Dataset:\")\n",
    "print(disease_counts)\n"
   ]
  },
  {
   "cell_type": "code",
   "execution_count": 106,
   "id": "94bf0f70-94da-40f9-970a-6e8bb2f32d7c",
   "metadata": {},
   "outputs": [
    {
     "name": "stdout",
     "output_type": "stream",
     "text": [
      "Unique values in FIRST_DIAGNOSIS:\n",
      "['Anxiety' 'Depression' 'Schizophrenia' 'Cannabis Use Disorder (CUD)']\n"
     ]
    }
   ],
   "source": [
    "# Show unique diagnosis names in FIRST_DIAGNOSIS\n",
    "print(\"Unique values in FIRST_DIAGNOSIS:\")\n",
    "print(merged_df[\"FIRST_DIAGNOSIS\"].unique())\n"
   ]
  },
  {
   "cell_type": "code",
   "execution_count": 110,
   "id": "1e07aa8f-d29a-4af1-a5d5-569965fc4b25",
   "metadata": {},
   "outputs": [],
   "source": [
    "# Ensure we replace \"Cannabis Use Disorder (CUD)\" with \"CUD\" correctly\n",
    "merged_df.loc[:, \"FIRST_DIAGNOSIS\"] = merged_df[\"FIRST_DIAGNOSIS\"].replace(\"Cannabis Use Disorder (CUD)\", \"CUD\")\n",
    "\n",
    "merged_df.loc[:, \"DIAGNOSIS_x\"] = merged_df[\"DIAGNOSIS_x\"].str.replace(\"Cannabis Use Disorder (CUD)\", \"CUD\", regex=False)\n",
    "\n",
    "merged_df.loc[:, \"DIAGNOSIS_y\"] = merged_df[\"DIAGNOSIS_y\"].str.replace(\"Cannabis Use Disorder (CUD)\", \"CUD\", regex=False)"
   ]
  },
  {
   "cell_type": "code",
   "execution_count": 112,
   "id": "b3db68c8-0d06-4880-9b33-81dbe0f6d283",
   "metadata": {},
   "outputs": [
    {
     "name": "stdout",
     "output_type": "stream",
     "text": [
      "Unique values in FIRST_DIAGNOSIS after replacement:\n",
      "['Anxiety' 'Depression' 'Schizophrenia' 'CUD']\n",
      "\n",
      "Unique values in DIAGNOSIS_x after replacement:\n",
      "['Anxiety' 'Depression, Anxiety' 'Depression' 'Schizophrenia'\n",
      " 'CUD, Depression, Anxiety' 'Depression, Anxiety, Schizophrenia'\n",
      " 'Anxiety, Schizophrenia' 'CUD, Depression, Anxiety, Schizophrenia'\n",
      " 'CUD, Anxiety' 'CUD, Depression' 'CUD, Anxiety, Schizophrenia' 'CUD'\n",
      " 'CUD, Depression, Schizophrenia' 'Depression, Schizophrenia'\n",
      " 'CUD, Schizophrenia']\n"
     ]
    }
   ],
   "source": [
    "# Check if \"Cannabis Use Disorder (CUD)\" is still present\n",
    "print(\"Unique values in FIRST_DIAGNOSIS after replacement:\")\n",
    "print(merged_df[\"FIRST_DIAGNOSIS\"].unique())\n",
    "\n",
    "print(\"\\nUnique values in DIAGNOSIS_x after replacement:\")\n",
    "print(merged_df[\"DIAGNOSIS_x\"].unique())\n"
   ]
  },
  {
   "cell_type": "code",
   "execution_count": 114,
   "id": "01ddf1ea-580a-4b66-af1c-a667d0a94eb9",
   "metadata": {},
   "outputs": [
    {
     "name": "stdout",
     "output_type": "stream",
     "text": [
      "\n",
      "Dataset Information:\n",
      "<class 'pandas.core.frame.DataFrame'>\n",
      "Index: 137136 entries, 141134 to 111192\n",
      "Data columns (total 18 columns):\n",
      " #   Column                Non-Null Count   Dtype         \n",
      "---  ------                --------------   -----         \n",
      " 0   PATID                 137136 non-null  int64         \n",
      " 1   BIRTH_DATE            137136 non-null  datetime64[ns]\n",
      " 2   BIRTH_TIME            137136 non-null  object        \n",
      " 3   SEX                   137134 non-null  object        \n",
      " 4   HISPANIC              136917 non-null  object        \n",
      " 5   MARITAL_STATUS        136408 non-null  object        \n",
      " 6   PREFERRED_LANGUAGE    136142 non-null  object        \n",
      " 7   DIAGNOSIS_x           137136 non-null  object        \n",
      " 8   AGE                   137136 non-null  int64         \n",
      " 9   DIAGNOSIS_y           137136 non-null  object        \n",
      " 10  TOTAL_VISITS          137136 non-null  int64         \n",
      " 11  FIRST_DIAGNOSIS       137136 non-null  object        \n",
      " 12  FIRST_DIAGNOSIS_DATE  137136 non-null  datetime64[ns]\n",
      " 13  CUD_Diagnosis         137136 non-null  int64         \n",
      " 14  CUD                   137136 non-null  int64         \n",
      " 15  Depression            137136 non-null  int64         \n",
      " 16  Anxiety               137136 non-null  int64         \n",
      " 17  Schizophrenia         137136 non-null  int64         \n",
      "dtypes: datetime64[ns](2), int64(8), object(8)\n",
      "memory usage: 19.9+ MB\n",
      "None\n"
     ]
    }
   ],
   "source": [
    "# Show columns and their data types\n",
    "print(\"\\nDataset Information:\")\n",
    "print(merged_df.info())\n"
   ]
  },
  {
   "cell_type": "code",
   "execution_count": 130,
   "id": "b043e20f-28c3-4ea2-b4b1-e0e0b4fe8c7b",
   "metadata": {},
   "outputs": [
    {
     "data": {
      "text/html": [
       "<div>\n",
       "<style scoped>\n",
       "    .dataframe tbody tr th:only-of-type {\n",
       "        vertical-align: middle;\n",
       "    }\n",
       "\n",
       "    .dataframe tbody tr th {\n",
       "        vertical-align: top;\n",
       "    }\n",
       "\n",
       "    .dataframe thead th {\n",
       "        text-align: right;\n",
       "    }\n",
       "</style>\n",
       "<table border=\"1\" class=\"dataframe\">\n",
       "  <thead>\n",
       "    <tr style=\"text-align: right;\">\n",
       "      <th></th>\n",
       "      <th>PATID</th>\n",
       "      <th>BIRTH_DATE</th>\n",
       "      <th>BIRTH_TIME</th>\n",
       "      <th>SEX</th>\n",
       "      <th>HISPANIC</th>\n",
       "      <th>MARITAL_STATUS</th>\n",
       "      <th>PREFERRED_LANGUAGE</th>\n",
       "      <th>DIAGNOSIS</th>\n",
       "      <th>AGE</th>\n",
       "    </tr>\n",
       "  </thead>\n",
       "  <tbody>\n",
       "    <tr>\n",
       "      <th>0</th>\n",
       "      <td>3052085</td>\n",
       "      <td>1993-12-10 06:00:00</td>\n",
       "      <td>06:00:00</td>\n",
       "      <td>F</td>\n",
       "      <td>N</td>\n",
       "      <td>Single</td>\n",
       "      <td>ENG</td>\n",
       "      <td>CUD</td>\n",
       "      <td>31</td>\n",
       "    </tr>\n",
       "    <tr>\n",
       "      <th>1</th>\n",
       "      <td>617820</td>\n",
       "      <td>1985-10-12 06:00:00</td>\n",
       "      <td>06:00:00</td>\n",
       "      <td>F</td>\n",
       "      <td>N</td>\n",
       "      <td>Single</td>\n",
       "      <td>ENG</td>\n",
       "      <td>CUD, Depression, Anxiety</td>\n",
       "      <td>39</td>\n",
       "    </tr>\n",
       "    <tr>\n",
       "      <th>2</th>\n",
       "      <td>2196185</td>\n",
       "      <td>1977-06-17 06:00:00</td>\n",
       "      <td>06:00:00</td>\n",
       "      <td>F</td>\n",
       "      <td>N</td>\n",
       "      <td>Divorced</td>\n",
       "      <td>ENG</td>\n",
       "      <td>CUD, Anxiety</td>\n",
       "      <td>47</td>\n",
       "    </tr>\n",
       "    <tr>\n",
       "      <th>3</th>\n",
       "      <td>2673434</td>\n",
       "      <td>1988-04-28 06:00:00</td>\n",
       "      <td>06:00:00</td>\n",
       "      <td>M</td>\n",
       "      <td>N</td>\n",
       "      <td>Married</td>\n",
       "      <td>ENG</td>\n",
       "      <td>CUD</td>\n",
       "      <td>36</td>\n",
       "    </tr>\n",
       "    <tr>\n",
       "      <th>4</th>\n",
       "      <td>128923</td>\n",
       "      <td>1962-05-15 06:00:00</td>\n",
       "      <td>06:00:00</td>\n",
       "      <td>F</td>\n",
       "      <td>N</td>\n",
       "      <td>Divorced</td>\n",
       "      <td>ENG</td>\n",
       "      <td>CUD, Depression, Anxiety</td>\n",
       "      <td>62</td>\n",
       "    </tr>\n",
       "  </tbody>\n",
       "</table>\n",
       "</div>"
      ],
      "text/plain": [
       "     PATID          BIRTH_DATE BIRTH_TIME SEX HISPANIC MARITAL_STATUS  \\\n",
       "0  3052085 1993-12-10 06:00:00   06:00:00   F        N         Single   \n",
       "1   617820 1985-10-12 06:00:00   06:00:00   F        N         Single   \n",
       "2  2196185 1977-06-17 06:00:00   06:00:00   F        N       Divorced   \n",
       "3  2673434 1988-04-28 06:00:00   06:00:00   M        N        Married   \n",
       "4   128923 1962-05-15 06:00:00   06:00:00   F        N       Divorced   \n",
       "\n",
       "  PREFERRED_LANGUAGE                 DIAGNOSIS  AGE  \n",
       "0                ENG                       CUD   31  \n",
       "1                ENG  CUD, Depression, Anxiety   39  \n",
       "2                ENG              CUD, Anxiety   47  \n",
       "3                ENG                       CUD   36  \n",
       "4                ENG  CUD, Depression, Anxiety   62  "
      ]
     },
     "execution_count": 130,
     "metadata": {},
     "output_type": "execute_result"
    }
   ],
   "source": [
    "# Display the first 5 rows of the dataset\n",
    "merged_df.head()\n"
   ]
  },
  {
   "cell_type": "code",
   "execution_count": 126,
   "id": "67d3952e-ace4-4cd1-aabf-9caf02ddc333",
   "metadata": {},
   "outputs": [
    {
     "ename": "FileNotFoundError",
     "evalue": "[Errno 2] No such file or directory: 'merged_df.head.xlsx'",
     "output_type": "error",
     "traceback": [
      "\u001b[0;31m---------------------------------------------------------------------------\u001b[0m",
      "\u001b[0;31mFileNotFoundError\u001b[0m                         Traceback (most recent call last)",
      "Cell \u001b[0;32mIn[126], line 4\u001b[0m\n\u001b[1;32m      1\u001b[0m \u001b[38;5;28;01mimport\u001b[39;00m \u001b[38;5;21;01mpandas\u001b[39;00m \u001b[38;5;28;01mas\u001b[39;00m \u001b[38;5;21;01mpd\u001b[39;00m\n\u001b[1;32m      3\u001b[0m \u001b[38;5;66;03m# Reload the dataset (update the filename if needed)\u001b[39;00m\n\u001b[0;32m----> 4\u001b[0m merged_df \u001b[38;5;241m=\u001b[39m pd\u001b[38;5;241m.\u001b[39mread_excel(\u001b[38;5;124m\"\u001b[39m\u001b[38;5;124mmerged_df.head.xlsx\u001b[39m\u001b[38;5;124m\"\u001b[39m)  \u001b[38;5;66;03m# Replace with the actual filename\u001b[39;00m\n\u001b[1;32m      6\u001b[0m \u001b[38;5;66;03m# Confirm dataset is loaded\u001b[39;00m\n\u001b[1;32m      7\u001b[0m \u001b[38;5;28mprint\u001b[39m(\u001b[38;5;124m\"\u001b[39m\u001b[38;5;124mDataset reloaded successfully.\u001b[39m\u001b[38;5;124m\"\u001b[39m)\n",
      "File \u001b[0;32m/opt/anaconda3/lib/python3.12/site-packages/pandas/io/excel/_base.py:495\u001b[0m, in \u001b[0;36mread_excel\u001b[0;34m(io, sheet_name, header, names, index_col, usecols, dtype, engine, converters, true_values, false_values, skiprows, nrows, na_values, keep_default_na, na_filter, verbose, parse_dates, date_parser, date_format, thousands, decimal, comment, skipfooter, storage_options, dtype_backend, engine_kwargs)\u001b[0m\n\u001b[1;32m    493\u001b[0m \u001b[38;5;28;01mif\u001b[39;00m \u001b[38;5;129;01mnot\u001b[39;00m \u001b[38;5;28misinstance\u001b[39m(io, ExcelFile):\n\u001b[1;32m    494\u001b[0m     should_close \u001b[38;5;241m=\u001b[39m \u001b[38;5;28;01mTrue\u001b[39;00m\n\u001b[0;32m--> 495\u001b[0m     io \u001b[38;5;241m=\u001b[39m ExcelFile(\n\u001b[1;32m    496\u001b[0m         io,\n\u001b[1;32m    497\u001b[0m         storage_options\u001b[38;5;241m=\u001b[39mstorage_options,\n\u001b[1;32m    498\u001b[0m         engine\u001b[38;5;241m=\u001b[39mengine,\n\u001b[1;32m    499\u001b[0m         engine_kwargs\u001b[38;5;241m=\u001b[39mengine_kwargs,\n\u001b[1;32m    500\u001b[0m     )\n\u001b[1;32m    501\u001b[0m \u001b[38;5;28;01melif\u001b[39;00m engine \u001b[38;5;129;01mand\u001b[39;00m engine \u001b[38;5;241m!=\u001b[39m io\u001b[38;5;241m.\u001b[39mengine:\n\u001b[1;32m    502\u001b[0m     \u001b[38;5;28;01mraise\u001b[39;00m \u001b[38;5;167;01mValueError\u001b[39;00m(\n\u001b[1;32m    503\u001b[0m         \u001b[38;5;124m\"\u001b[39m\u001b[38;5;124mEngine should not be specified when passing \u001b[39m\u001b[38;5;124m\"\u001b[39m\n\u001b[1;32m    504\u001b[0m         \u001b[38;5;124m\"\u001b[39m\u001b[38;5;124man ExcelFile - ExcelFile already has the engine set\u001b[39m\u001b[38;5;124m\"\u001b[39m\n\u001b[1;32m    505\u001b[0m     )\n",
      "File \u001b[0;32m/opt/anaconda3/lib/python3.12/site-packages/pandas/io/excel/_base.py:1550\u001b[0m, in \u001b[0;36mExcelFile.__init__\u001b[0;34m(self, path_or_buffer, engine, storage_options, engine_kwargs)\u001b[0m\n\u001b[1;32m   1548\u001b[0m     ext \u001b[38;5;241m=\u001b[39m \u001b[38;5;124m\"\u001b[39m\u001b[38;5;124mxls\u001b[39m\u001b[38;5;124m\"\u001b[39m\n\u001b[1;32m   1549\u001b[0m \u001b[38;5;28;01melse\u001b[39;00m:\n\u001b[0;32m-> 1550\u001b[0m     ext \u001b[38;5;241m=\u001b[39m inspect_excel_format(\n\u001b[1;32m   1551\u001b[0m         content_or_path\u001b[38;5;241m=\u001b[39mpath_or_buffer, storage_options\u001b[38;5;241m=\u001b[39mstorage_options\n\u001b[1;32m   1552\u001b[0m     )\n\u001b[1;32m   1553\u001b[0m     \u001b[38;5;28;01mif\u001b[39;00m ext \u001b[38;5;129;01mis\u001b[39;00m \u001b[38;5;28;01mNone\u001b[39;00m:\n\u001b[1;32m   1554\u001b[0m         \u001b[38;5;28;01mraise\u001b[39;00m \u001b[38;5;167;01mValueError\u001b[39;00m(\n\u001b[1;32m   1555\u001b[0m             \u001b[38;5;124m\"\u001b[39m\u001b[38;5;124mExcel file format cannot be determined, you must specify \u001b[39m\u001b[38;5;124m\"\u001b[39m\n\u001b[1;32m   1556\u001b[0m             \u001b[38;5;124m\"\u001b[39m\u001b[38;5;124man engine manually.\u001b[39m\u001b[38;5;124m\"\u001b[39m\n\u001b[1;32m   1557\u001b[0m         )\n",
      "File \u001b[0;32m/opt/anaconda3/lib/python3.12/site-packages/pandas/io/excel/_base.py:1402\u001b[0m, in \u001b[0;36minspect_excel_format\u001b[0;34m(content_or_path, storage_options)\u001b[0m\n\u001b[1;32m   1399\u001b[0m \u001b[38;5;28;01mif\u001b[39;00m \u001b[38;5;28misinstance\u001b[39m(content_or_path, \u001b[38;5;28mbytes\u001b[39m):\n\u001b[1;32m   1400\u001b[0m     content_or_path \u001b[38;5;241m=\u001b[39m BytesIO(content_or_path)\n\u001b[0;32m-> 1402\u001b[0m \u001b[38;5;28;01mwith\u001b[39;00m get_handle(\n\u001b[1;32m   1403\u001b[0m     content_or_path, \u001b[38;5;124m\"\u001b[39m\u001b[38;5;124mrb\u001b[39m\u001b[38;5;124m\"\u001b[39m, storage_options\u001b[38;5;241m=\u001b[39mstorage_options, is_text\u001b[38;5;241m=\u001b[39m\u001b[38;5;28;01mFalse\u001b[39;00m\n\u001b[1;32m   1404\u001b[0m ) \u001b[38;5;28;01mas\u001b[39;00m handle:\n\u001b[1;32m   1405\u001b[0m     stream \u001b[38;5;241m=\u001b[39m handle\u001b[38;5;241m.\u001b[39mhandle\n\u001b[1;32m   1406\u001b[0m     stream\u001b[38;5;241m.\u001b[39mseek(\u001b[38;5;241m0\u001b[39m)\n",
      "File \u001b[0;32m/opt/anaconda3/lib/python3.12/site-packages/pandas/io/common.py:882\u001b[0m, in \u001b[0;36mget_handle\u001b[0;34m(path_or_buf, mode, encoding, compression, memory_map, is_text, errors, storage_options)\u001b[0m\n\u001b[1;32m    873\u001b[0m         handle \u001b[38;5;241m=\u001b[39m \u001b[38;5;28mopen\u001b[39m(\n\u001b[1;32m    874\u001b[0m             handle,\n\u001b[1;32m    875\u001b[0m             ioargs\u001b[38;5;241m.\u001b[39mmode,\n\u001b[0;32m   (...)\u001b[0m\n\u001b[1;32m    878\u001b[0m             newline\u001b[38;5;241m=\u001b[39m\u001b[38;5;124m\"\u001b[39m\u001b[38;5;124m\"\u001b[39m,\n\u001b[1;32m    879\u001b[0m         )\n\u001b[1;32m    880\u001b[0m     \u001b[38;5;28;01melse\u001b[39;00m:\n\u001b[1;32m    881\u001b[0m         \u001b[38;5;66;03m# Binary mode\u001b[39;00m\n\u001b[0;32m--> 882\u001b[0m         handle \u001b[38;5;241m=\u001b[39m \u001b[38;5;28mopen\u001b[39m(handle, ioargs\u001b[38;5;241m.\u001b[39mmode)\n\u001b[1;32m    883\u001b[0m     handles\u001b[38;5;241m.\u001b[39mappend(handle)\n\u001b[1;32m    885\u001b[0m \u001b[38;5;66;03m# Convert BytesIO or file objects passed with an encoding\u001b[39;00m\n",
      "\u001b[0;31mFileNotFoundError\u001b[0m: [Errno 2] No such file or directory: 'merged_df.head.xlsx'"
     ]
    }
   ],
   "source": [
    "import pandas as pd\n",
    "\n",
    "# Reload the dataset (update the filename if needed)\n",
    "merged_df = pd.read_excel(\"merged_df.head.xlsx\")  # Replace with the actual filename\n",
    "\n",
    "# Confirm dataset is loaded\n",
    "print(\"Dataset reloaded successfully.\")\n"
   ]
  },
  {
   "cell_type": "code",
   "execution_count": 120,
   "id": "7226bdb5-f90e-4d25-aad7-907d1f745e67",
   "metadata": {},
   "outputs": [
    {
     "name": "stdout",
     "output_type": "stream",
     "text": [
      "Files in directory: ['.config', 'Music', '.condarc', 'first_diag.xlsx', '.DS_Store', '.CFUserTextEncoding', '.xonshrc', 'anaconda_projects', '.zshrc', 'Pictures', '.ipython', 'Desktop', 'Library', '.matplotlib', 'thesis.xlsx', 'Public', '.tcshrc', '.virtual_documents', '.anaconda', 'Movies', 'Applications', '.Trash', '.ipynb_checkpoints', 'no_of_visits.xlsx', '.jupyter', 'Documents', '.bash_profile', 'Downloads', '.continuum', 'THESIS.ipynb', '.zsh_sessions', '.conda']\n"
     ]
    }
   ],
   "source": [
    "import os\n",
    "\n",
    "# List all files in the current directory\n",
    "print(\"Files in directory:\", os.listdir())\n"
   ]
  },
  {
   "cell_type": "code",
   "execution_count": 122,
   "id": "4930c989-d2db-40e2-8f63-c5fc4f56d3c7",
   "metadata": {},
   "outputs": [
    {
     "name": "stdout",
     "output_type": "stream",
     "text": [
      "Dataset loaded successfully.\n"
     ]
    }
   ],
   "source": [
    "import pandas as pd\n",
    "\n",
    "# Reload the dataset (update the filename if needed)\n",
    "merged_df = pd.read_excel(\"thesis.xlsx\")  # Replace with the correct dataset file\n",
    "\n",
    "# Confirm successful loading\n",
    "print(\"Dataset loaded successfully.\")\n"
   ]
  },
  {
   "cell_type": "code",
   "execution_count": 124,
   "id": "8e9193bb-fe4e-4b1d-abc2-a54802835729",
   "metadata": {},
   "outputs": [
    {
     "name": "stdout",
     "output_type": "stream",
     "text": [
      "\n",
      "Updated columns in merged_df:\n",
      "Index(['PATID', 'BIRTH_DATE', 'BIRTH_TIME', 'SEX', 'HISPANIC',\n",
      "       'MARITAL_STATUS', 'PREFERRED_LANGUAGE', 'DIAGNOSIS', 'AGE'],\n",
      "      dtype='object')\n"
     ]
    }
   ],
   "source": [
    "# Drop the 'CUD_Diagnosis' column\n",
    "merged_df = merged_df.drop(columns=[\"CUD_Diagnosis\"], errors=\"ignore\")\n",
    "\n",
    "# Confirm column removal\n",
    "print(\"\\nUpdated columns in merged_df:\")\n",
    "print(merged_df.columns)\n"
   ]
  },
  {
   "cell_type": "code",
   "execution_count": 134,
   "id": "eddc0143-73ee-4c3a-907f-6959d140d92b",
   "metadata": {},
   "outputs": [
    {
     "data": {
      "text/html": [
       "<div>\n",
       "<style scoped>\n",
       "    .dataframe tbody tr th:only-of-type {\n",
       "        vertical-align: middle;\n",
       "    }\n",
       "\n",
       "    .dataframe tbody tr th {\n",
       "        vertical-align: top;\n",
       "    }\n",
       "\n",
       "    .dataframe thead th {\n",
       "        text-align: right;\n",
       "    }\n",
       "</style>\n",
       "<table border=\"1\" class=\"dataframe\">\n",
       "  <thead>\n",
       "    <tr style=\"text-align: right;\">\n",
       "      <th></th>\n",
       "      <th>PATID</th>\n",
       "      <th>BIRTH_DATE</th>\n",
       "      <th>BIRTH_TIME</th>\n",
       "      <th>SEX</th>\n",
       "      <th>HISPANIC</th>\n",
       "      <th>MARITAL_STATUS</th>\n",
       "      <th>PREFERRED_LANGUAGE</th>\n",
       "      <th>DIAGNOSIS</th>\n",
       "      <th>AGE</th>\n",
       "    </tr>\n",
       "  </thead>\n",
       "  <tbody>\n",
       "    <tr>\n",
       "      <th>0</th>\n",
       "      <td>3052085</td>\n",
       "      <td>1993-12-10 06:00:00</td>\n",
       "      <td>06:00:00</td>\n",
       "      <td>F</td>\n",
       "      <td>N</td>\n",
       "      <td>Single</td>\n",
       "      <td>ENG</td>\n",
       "      <td>CUD</td>\n",
       "      <td>31</td>\n",
       "    </tr>\n",
       "    <tr>\n",
       "      <th>1</th>\n",
       "      <td>617820</td>\n",
       "      <td>1985-10-12 06:00:00</td>\n",
       "      <td>06:00:00</td>\n",
       "      <td>F</td>\n",
       "      <td>N</td>\n",
       "      <td>Single</td>\n",
       "      <td>ENG</td>\n",
       "      <td>CUD, Depression, Anxiety</td>\n",
       "      <td>39</td>\n",
       "    </tr>\n",
       "    <tr>\n",
       "      <th>2</th>\n",
       "      <td>2196185</td>\n",
       "      <td>1977-06-17 06:00:00</td>\n",
       "      <td>06:00:00</td>\n",
       "      <td>F</td>\n",
       "      <td>N</td>\n",
       "      <td>Divorced</td>\n",
       "      <td>ENG</td>\n",
       "      <td>CUD, Anxiety</td>\n",
       "      <td>47</td>\n",
       "    </tr>\n",
       "    <tr>\n",
       "      <th>3</th>\n",
       "      <td>2673434</td>\n",
       "      <td>1988-04-28 06:00:00</td>\n",
       "      <td>06:00:00</td>\n",
       "      <td>M</td>\n",
       "      <td>N</td>\n",
       "      <td>Married</td>\n",
       "      <td>ENG</td>\n",
       "      <td>CUD</td>\n",
       "      <td>36</td>\n",
       "    </tr>\n",
       "    <tr>\n",
       "      <th>4</th>\n",
       "      <td>128923</td>\n",
       "      <td>1962-05-15 06:00:00</td>\n",
       "      <td>06:00:00</td>\n",
       "      <td>F</td>\n",
       "      <td>N</td>\n",
       "      <td>Divorced</td>\n",
       "      <td>ENG</td>\n",
       "      <td>CUD, Depression, Anxiety</td>\n",
       "      <td>62</td>\n",
       "    </tr>\n",
       "  </tbody>\n",
       "</table>\n",
       "</div>"
      ],
      "text/plain": [
       "     PATID          BIRTH_DATE BIRTH_TIME SEX HISPANIC MARITAL_STATUS  \\\n",
       "0  3052085 1993-12-10 06:00:00   06:00:00   F        N         Single   \n",
       "1   617820 1985-10-12 06:00:00   06:00:00   F        N         Single   \n",
       "2  2196185 1977-06-17 06:00:00   06:00:00   F        N       Divorced   \n",
       "3  2673434 1988-04-28 06:00:00   06:00:00   M        N        Married   \n",
       "4   128923 1962-05-15 06:00:00   06:00:00   F        N       Divorced   \n",
       "\n",
       "  PREFERRED_LANGUAGE                 DIAGNOSIS  AGE  \n",
       "0                ENG                       CUD   31  \n",
       "1                ENG  CUD, Depression, Anxiety   39  \n",
       "2                ENG              CUD, Anxiety   47  \n",
       "3                ENG                       CUD   36  \n",
       "4                ENG  CUD, Depression, Anxiety   62  "
      ]
     },
     "metadata": {},
     "output_type": "display_data"
    }
   ],
   "source": [
    "# Display first 5 rows after column removal\n",
    "display(merged_df.head())\n",
    "\n"
   ]
  },
  {
   "cell_type": "code",
   "execution_count": 136,
   "id": "de419386-1804-4a17-bad5-2485c61c14a7",
   "metadata": {},
   "outputs": [
    {
     "ename": "ModuleNotFoundError",
     "evalue": "No module named 'ace_tools'",
     "output_type": "error",
     "traceback": [
      "\u001b[0;31m---------------------------------------------------------------------------\u001b[0m",
      "\u001b[0;31mModuleNotFoundError\u001b[0m                       Traceback (most recent call last)",
      "Cell \u001b[0;32mIn[136], line 27\u001b[0m\n\u001b[1;32m     24\u001b[0m merged_df\u001b[38;5;241m.\u001b[39mto_excel(final_filename, index\u001b[38;5;241m=\u001b[39m\u001b[38;5;28;01mFalse\u001b[39;00m)\n\u001b[1;32m     26\u001b[0m \u001b[38;5;66;03m# Display the final merged dataset\u001b[39;00m\n\u001b[0;32m---> 27\u001b[0m \u001b[38;5;28;01mimport\u001b[39;00m \u001b[38;5;21;01mace_tools\u001b[39;00m \u001b[38;5;28;01mas\u001b[39;00m \u001b[38;5;21;01mtools\u001b[39;00m\n\u001b[1;32m     28\u001b[0m tools\u001b[38;5;241m.\u001b[39mdisplay_dataframe_to_user(name\u001b[38;5;241m=\u001b[39m\u001b[38;5;124m\"\u001b[39m\u001b[38;5;124mThesis Final Merged Dataset\u001b[39m\u001b[38;5;124m\"\u001b[39m, dataframe\u001b[38;5;241m=\u001b[39mmerged_df)\n",
      "\u001b[0;31mModuleNotFoundError\u001b[0m: No module named 'ace_tools'"
     ]
    }
   ],
   "source": [
    "import pandas as pd\n",
    "\n",
    "# Load the datasets\n",
    "thesis_df = pd.read_excel(\"thesis.xlsx\")\n",
    "visits_df = pd.read_excel(\"no_of_visits.xlsx\")  # Ensure this file exists\n",
    "first_diag_df = pd.read_excel(\"first_diag.xlsx\")\n",
    "\n",
    "# Merge all datasets using PATID as the common key\n",
    "merged_df = thesis_df.merge(visits_df, on=\"PATID\", how=\"left\")\n",
    "merged_df = merged_df.merge(first_diag_df, on=\"PATID\", how=\"left\")\n",
    "\n",
    "# Rename diagnosis columns for clarity\n",
    "merged_df.rename(columns={\"DIAGNOSIS_x\": \"DIAGNOSIS_THESIS\", \"DIAGNOSIS_y\": \"DIAGNOSIS_VISITS\"}, inplace=True)\n",
    "\n",
    "# Define diseases for binary columns\n",
    "diseases = [\"CUD\", \"Depression\", \"Anxiety\", \"Schizophrenia\"]\n",
    "\n",
    "# Create binary columns for each disease based on DIAGNOSIS_THESIS\n",
    "for disease in diseases:\n",
    "    merged_df[disease] = merged_df[\"DIAGNOSIS_THESIS\"].apply(lambda x: 1 if pd.notna(x) and disease in x else 0)\n",
    "\n",
    "# Save the final merged dataset\n",
    "final_filename = \"thesis_final.xlsx\"\n",
    "merged_df.to_excel(final_filename, index=False)\n",
    "\n",
    "# Display the final merged dataset\n",
    "import ace_tools as tools\n",
    "tools.display_dataframe_to_user(name=\"Thesis Final Merged Dataset\", dataframe=merged_df)\n"
   ]
  },
  {
   "cell_type": "code",
   "execution_count": 138,
   "id": "0c370185-d854-43ae-8816-54b5a2004b24",
   "metadata": {},
   "outputs": [
    {
     "name": "stdout",
     "output_type": "stream",
     "text": [
      "Files in directory: ['.config', 'Music', '.condarc', 'first_diag.xlsx', '.DS_Store', '.CFUserTextEncoding', '.xonshrc', 'anaconda_projects', '.zshrc', 'Pictures', '.ipython', 'Desktop', 'Library', '.matplotlib', 'thesis.xlsx', 'Public', '.tcshrc', '.virtual_documents', 'thesis_final.xlsx', '.anaconda', 'Movies', 'Applications', '.Trash', '.ipynb_checkpoints', 'no_of_visits.xlsx', '.jupyter', 'Documents', '.bash_profile', 'Downloads', '.continuum', 'THESIS.ipynb', '.zsh_sessions', '.conda']\n"
     ]
    }
   ],
   "source": [
    "import os\n",
    "\n",
    "# List all files in the current directory\n",
    "print(\"Files in directory:\", os.listdir())\n"
   ]
  },
  {
   "cell_type": "code",
   "execution_count": 140,
   "id": "03212c12-ef80-4233-ba21-10f0341f2cb6",
   "metadata": {},
   "outputs": [
    {
     "name": "stdout",
     "output_type": "stream",
     "text": [
      "File saved successfully: thesis_final.xlsx\n"
     ]
    }
   ],
   "source": [
    "# Save the final merged dataset again\n",
    "final_filename = \"thesis_final.xlsx\"\n",
    "merged_df.to_excel(final_filename, index=False)\n",
    "\n",
    "print(\"File saved successfully:\", final_filename)\n"
   ]
  },
  {
   "cell_type": "code",
   "execution_count": 142,
   "id": "3ac360fd-ecd5-42cf-bef7-44566efce71b",
   "metadata": {},
   "outputs": [
    {
     "ename": "ModuleNotFoundError",
     "evalue": "No module named 'ace_tools'",
     "output_type": "error",
     "traceback": [
      "\u001b[0;31m---------------------------------------------------------------------------\u001b[0m",
      "\u001b[0;31mModuleNotFoundError\u001b[0m                       Traceback (most recent call last)",
      "Cell \u001b[0;32mIn[142], line 7\u001b[0m\n\u001b[1;32m      4\u001b[0m merged_df \u001b[38;5;241m=\u001b[39m pd\u001b[38;5;241m.\u001b[39mread_excel(\u001b[38;5;124m\"\u001b[39m\u001b[38;5;124mthesis_final.xlsx\u001b[39m\u001b[38;5;124m\"\u001b[39m)\n\u001b[1;32m      6\u001b[0m \u001b[38;5;66;03m# Display the dataset\u001b[39;00m\n\u001b[0;32m----> 7\u001b[0m \u001b[38;5;28;01mimport\u001b[39;00m \u001b[38;5;21;01mace_tools\u001b[39;00m \u001b[38;5;28;01mas\u001b[39;00m \u001b[38;5;21;01mtools\u001b[39;00m\n\u001b[1;32m      8\u001b[0m tools\u001b[38;5;241m.\u001b[39mdisplay_dataframe_to_user(name\u001b[38;5;241m=\u001b[39m\u001b[38;5;124m\"\u001b[39m\u001b[38;5;124mThesis Final Merged Dataset\u001b[39m\u001b[38;5;124m\"\u001b[39m, dataframe\u001b[38;5;241m=\u001b[39mmerged_df)\n",
      "\u001b[0;31mModuleNotFoundError\u001b[0m: No module named 'ace_tools'"
     ]
    }
   ],
   "source": [
    "import pandas as pd\n",
    "\n",
    "# Reload the saved file\n",
    "merged_df = pd.read_excel(\"thesis_final.xlsx\")\n",
    "\n",
    "# Display the dataset\n",
    "import ace_tools as tools\n",
    "tools.display_dataframe_to_user(name=\"Thesis Final Merged Dataset\", dataframe=merged_df)\n"
   ]
  },
  {
   "cell_type": "code",
   "execution_count": 144,
   "id": "ecf8ce44-65da-4177-b22f-22bfe811fca1",
   "metadata": {},
   "outputs": [
    {
     "name": "stdout",
     "output_type": "stream",
     "text": [
      "Dataset loaded successfully.\n"
     ]
    }
   ],
   "source": [
    "import pandas as pd\n",
    "\n",
    "# Reload the saved merged dataset\n",
    "final_filename = \"thesis_final.xlsx\"\n",
    "merged_df = pd.read_excel(final_filename)\n",
    "\n",
    "# Confirm successful loading\n",
    "print(\"Dataset loaded successfully.\")\n"
   ]
  },
  {
   "cell_type": "code",
   "execution_count": 146,
   "id": "4f62c6b0-adc3-46a9-9421-badad708044c",
   "metadata": {},
   "outputs": [
    {
     "data": {
      "text/html": [
       "<div>\n",
       "<style scoped>\n",
       "    .dataframe tbody tr th:only-of-type {\n",
       "        vertical-align: middle;\n",
       "    }\n",
       "\n",
       "    .dataframe tbody tr th {\n",
       "        vertical-align: top;\n",
       "    }\n",
       "\n",
       "    .dataframe thead th {\n",
       "        text-align: right;\n",
       "    }\n",
       "</style>\n",
       "<table border=\"1\" class=\"dataframe\">\n",
       "  <thead>\n",
       "    <tr style=\"text-align: right;\">\n",
       "      <th></th>\n",
       "      <th>PATID</th>\n",
       "      <th>BIRTH_DATE</th>\n",
       "      <th>BIRTH_TIME</th>\n",
       "      <th>SEX</th>\n",
       "      <th>HISPANIC</th>\n",
       "      <th>MARITAL_STATUS</th>\n",
       "      <th>PREFERRED_LANGUAGE</th>\n",
       "      <th>DIAGNOSIS_THESIS</th>\n",
       "      <th>AGE</th>\n",
       "      <th>DIAGNOSIS_VISITS</th>\n",
       "      <th>TOTAL_VISITS</th>\n",
       "      <th>FIRST_DIAGNOSIS</th>\n",
       "      <th>FIRST_DIAGNOSIS_DATE</th>\n",
       "      <th>CUD</th>\n",
       "      <th>Depression</th>\n",
       "      <th>Anxiety</th>\n",
       "      <th>Schizophrenia</th>\n",
       "    </tr>\n",
       "  </thead>\n",
       "  <tbody>\n",
       "    <tr>\n",
       "      <th>0</th>\n",
       "      <td>3052085</td>\n",
       "      <td>1993-12-10 06:00:00</td>\n",
       "      <td>06:00:00</td>\n",
       "      <td>F</td>\n",
       "      <td>N</td>\n",
       "      <td>Single</td>\n",
       "      <td>ENG</td>\n",
       "      <td>CUD</td>\n",
       "      <td>31</td>\n",
       "      <td>CUD</td>\n",
       "      <td>2</td>\n",
       "      <td>Cannabis Use Disorder (CUD)</td>\n",
       "      <td>2021-01-11</td>\n",
       "      <td>1</td>\n",
       "      <td>0</td>\n",
       "      <td>0</td>\n",
       "      <td>0</td>\n",
       "    </tr>\n",
       "    <tr>\n",
       "      <th>1</th>\n",
       "      <td>617820</td>\n",
       "      <td>1985-10-12 06:00:00</td>\n",
       "      <td>06:00:00</td>\n",
       "      <td>F</td>\n",
       "      <td>N</td>\n",
       "      <td>Single</td>\n",
       "      <td>ENG</td>\n",
       "      <td>CUD, Depression, Anxiety</td>\n",
       "      <td>39</td>\n",
       "      <td>CUD, Depression, Anxiety</td>\n",
       "      <td>116</td>\n",
       "      <td>Depression</td>\n",
       "      <td>2016-12-02</td>\n",
       "      <td>1</td>\n",
       "      <td>1</td>\n",
       "      <td>1</td>\n",
       "      <td>0</td>\n",
       "    </tr>\n",
       "    <tr>\n",
       "      <th>2</th>\n",
       "      <td>2196185</td>\n",
       "      <td>1977-06-17 06:00:00</td>\n",
       "      <td>06:00:00</td>\n",
       "      <td>F</td>\n",
       "      <td>N</td>\n",
       "      <td>Divorced</td>\n",
       "      <td>ENG</td>\n",
       "      <td>CUD, Anxiety</td>\n",
       "      <td>47</td>\n",
       "      <td>CUD, Anxiety</td>\n",
       "      <td>41</td>\n",
       "      <td>Cannabis Use Disorder (CUD)</td>\n",
       "      <td>2018-12-10</td>\n",
       "      <td>1</td>\n",
       "      <td>0</td>\n",
       "      <td>1</td>\n",
       "      <td>0</td>\n",
       "    </tr>\n",
       "    <tr>\n",
       "      <th>3</th>\n",
       "      <td>2673434</td>\n",
       "      <td>1988-04-28 06:00:00</td>\n",
       "      <td>06:00:00</td>\n",
       "      <td>M</td>\n",
       "      <td>N</td>\n",
       "      <td>Married</td>\n",
       "      <td>ENG</td>\n",
       "      <td>CUD</td>\n",
       "      <td>36</td>\n",
       "      <td>CUD</td>\n",
       "      <td>66</td>\n",
       "      <td>Cannabis Use Disorder (CUD)</td>\n",
       "      <td>2017-01-14</td>\n",
       "      <td>1</td>\n",
       "      <td>0</td>\n",
       "      <td>0</td>\n",
       "      <td>0</td>\n",
       "    </tr>\n",
       "    <tr>\n",
       "      <th>4</th>\n",
       "      <td>128923</td>\n",
       "      <td>1962-05-15 06:00:00</td>\n",
       "      <td>06:00:00</td>\n",
       "      <td>F</td>\n",
       "      <td>N</td>\n",
       "      <td>Divorced</td>\n",
       "      <td>ENG</td>\n",
       "      <td>CUD, Depression, Anxiety</td>\n",
       "      <td>62</td>\n",
       "      <td>CUD, Depression, Anxiety</td>\n",
       "      <td>356</td>\n",
       "      <td>Depression</td>\n",
       "      <td>2018-05-03</td>\n",
       "      <td>1</td>\n",
       "      <td>1</td>\n",
       "      <td>1</td>\n",
       "      <td>0</td>\n",
       "    </tr>\n",
       "  </tbody>\n",
       "</table>\n",
       "</div>"
      ],
      "text/plain": [
       "     PATID          BIRTH_DATE BIRTH_TIME SEX HISPANIC MARITAL_STATUS  \\\n",
       "0  3052085 1993-12-10 06:00:00   06:00:00   F        N         Single   \n",
       "1   617820 1985-10-12 06:00:00   06:00:00   F        N         Single   \n",
       "2  2196185 1977-06-17 06:00:00   06:00:00   F        N       Divorced   \n",
       "3  2673434 1988-04-28 06:00:00   06:00:00   M        N        Married   \n",
       "4   128923 1962-05-15 06:00:00   06:00:00   F        N       Divorced   \n",
       "\n",
       "  PREFERRED_LANGUAGE          DIAGNOSIS_THESIS  AGE          DIAGNOSIS_VISITS  \\\n",
       "0                ENG                       CUD   31                       CUD   \n",
       "1                ENG  CUD, Depression, Anxiety   39  CUD, Depression, Anxiety   \n",
       "2                ENG              CUD, Anxiety   47              CUD, Anxiety   \n",
       "3                ENG                       CUD   36                       CUD   \n",
       "4                ENG  CUD, Depression, Anxiety   62  CUD, Depression, Anxiety   \n",
       "\n",
       "   TOTAL_VISITS              FIRST_DIAGNOSIS FIRST_DIAGNOSIS_DATE  CUD  \\\n",
       "0             2  Cannabis Use Disorder (CUD)           2021-01-11    1   \n",
       "1           116                   Depression           2016-12-02    1   \n",
       "2            41  Cannabis Use Disorder (CUD)           2018-12-10    1   \n",
       "3            66  Cannabis Use Disorder (CUD)           2017-01-14    1   \n",
       "4           356                   Depression           2018-05-03    1   \n",
       "\n",
       "   Depression  Anxiety  Schizophrenia  \n",
       "0           0        0              0  \n",
       "1           1        1              0  \n",
       "2           0        1              0  \n",
       "3           0        0              0  \n",
       "4           1        1              0  "
      ]
     },
     "execution_count": 146,
     "metadata": {},
     "output_type": "execute_result"
    }
   ],
   "source": [
    "# Show the first 5 rows\n",
    "merged_df.head()\n"
   ]
  },
  {
   "cell_type": "code",
   "execution_count": 148,
   "id": "10289b12-f756-43db-ba37-ec14737f4895",
   "metadata": {},
   "outputs": [
    {
     "name": "stdout",
     "output_type": "stream",
     "text": [
      "Backup created successfully.\n"
     ]
    }
   ],
   "source": [
    "import shutil\n",
    "\n",
    "# Create a backup copy in a different location\n",
    "shutil.copy(\"thesis_final.xlsx\", \"backup_thesis_final.xlsx\")\n",
    "\n",
    "print(\"Backup created successfully.\")\n"
   ]
  },
  {
   "cell_type": "code",
   "execution_count": 150,
   "id": "d0532b4f-b0e3-4dee-8cba-37609783d48e",
   "metadata": {},
   "outputs": [
    {
     "name": "stdout",
     "output_type": "stream",
     "text": [
      "✅ File is safe and available.\n"
     ]
    }
   ],
   "source": [
    "import os\n",
    "\n",
    "# Check if the file is still in the directory\n",
    "if \"thesis_final.xlsx\" in os.listdir():\n",
    "    print(\"✅ File is safe and available.\")\n",
    "else:\n",
    "    print(\"❌ Warning: File is missing!\")\n"
   ]
  },
  {
   "cell_type": "code",
   "execution_count": null,
   "id": "8de2ca22-26ac-4553-b7a0-374bede87272",
   "metadata": {},
   "outputs": [],
   "source": []
  }
 ],
 "metadata": {
  "kernelspec": {
   "display_name": "Python [conda env:base] *",
   "language": "python",
   "name": "conda-base-py"
  },
  "language_info": {
   "codemirror_mode": {
    "name": "ipython",
    "version": 3
   },
   "file_extension": ".py",
   "mimetype": "text/x-python",
   "name": "python",
   "nbconvert_exporter": "python",
   "pygments_lexer": "ipython3",
   "version": "3.12.7"
  }
 },
 "nbformat": 4,
 "nbformat_minor": 5
}
